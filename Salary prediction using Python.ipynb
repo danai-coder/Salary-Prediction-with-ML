{
 "cells": [
  {
   "cell_type": "code",
   "execution_count": 3,
   "id": "6d1d8c14",
   "metadata": {},
   "outputs": [],
   "source": [
    "import pandas as pd \n",
    "from warnings import filterwarnings\n",
    "filterwarnings(\"ignore\")\n",
    "df = pd.DataFrame(pd.read_excel(\"Employees.xlsx\"))"
   ]
  },
  {
   "cell_type": "code",
   "execution_count": 4,
   "id": "57fcb4cf",
   "metadata": {},
   "outputs": [
    {
     "data": {
      "application/vnd.microsoft.datawrangler.viewer.v0+json": {
       "columns": [
        {
         "name": "index",
         "rawType": "int64",
         "type": "integer"
        },
        {
         "name": "No",
         "rawType": "int64",
         "type": "integer"
        },
        {
         "name": "First Name",
         "rawType": "object",
         "type": "string"
        },
        {
         "name": "Last Name",
         "rawType": "object",
         "type": "string"
        },
        {
         "name": "Gender",
         "rawType": "object",
         "type": "string"
        },
        {
         "name": "Start Date",
         "rawType": "datetime64[ns]",
         "type": "datetime"
        },
        {
         "name": "Years",
         "rawType": "int64",
         "type": "integer"
        },
        {
         "name": "Department",
         "rawType": "object",
         "type": "string"
        },
        {
         "name": "Country",
         "rawType": "object",
         "type": "string"
        },
        {
         "name": "Center",
         "rawType": "object",
         "type": "string"
        },
        {
         "name": "Monthly Salary",
         "rawType": "int64",
         "type": "integer"
        },
        {
         "name": "Annual Salary",
         "rawType": "int64",
         "type": "integer"
        },
        {
         "name": "Job Rate",
         "rawType": "float64",
         "type": "float"
        },
        {
         "name": "Sick Leaves",
         "rawType": "int64",
         "type": "integer"
        },
        {
         "name": "Unpaid Leaves",
         "rawType": "int64",
         "type": "integer"
        },
        {
         "name": "Overtime Hours",
         "rawType": "int64",
         "type": "integer"
        }
       ],
       "ref": "b1df84db-c5ba-47de-a353-22af29009480",
       "rows": [
        [
         "0",
         "1",
         "Ghadir",
         "Hmshw",
         "Male",
         "2018-04-04 00:00:00",
         "2",
         "Quality Control",
         "Egypt",
         "West",
         "1560",
         "18720",
         "3.0",
         "1",
         "0",
         "183"
        ],
        [
         "1",
         "2",
         "Omar",
         "Hishan",
         "Male",
         "2020-05-21 00:00:00",
         "0",
         "Quality Control",
         "Saudi Arabia",
         "West",
         "3247",
         "38964",
         "1.0",
         "0",
         "5",
         "198"
        ],
        [
         "2",
         "3",
         "Ailya",
         "Sharaf",
         "Female",
         "2017-09-28 00:00:00",
         "3",
         "Major Mfg Projects",
         "Saudi Arabia",
         "West",
         "2506",
         "30072",
         "2.0",
         "0",
         "3",
         "192"
        ],
        [
         "3",
         "4",
         "Lwiy",
         "Qbany",
         "Male",
         "2018-08-14 00:00:00",
         "2",
         "Manufacturing",
         "United Arab Emirates",
         "Main",
         "1828",
         "21936",
         "3.0",
         "0",
         "0",
         "7"
        ],
        [
         "4",
         "5",
         "Ahmad",
         "Bikri",
         "Male",
         "2020-03-11 00:00:00",
         "0",
         "Manufacturing",
         "Egypt",
         "Main",
         "970",
         "11640",
         "5.0",
         "0",
         "5",
         "121"
        ]
       ],
       "shape": {
        "columns": 15,
        "rows": 5
       }
      },
      "text/html": [
       "<div>\n",
       "<style scoped>\n",
       "    .dataframe tbody tr th:only-of-type {\n",
       "        vertical-align: middle;\n",
       "    }\n",
       "\n",
       "    .dataframe tbody tr th {\n",
       "        vertical-align: top;\n",
       "    }\n",
       "\n",
       "    .dataframe thead th {\n",
       "        text-align: right;\n",
       "    }\n",
       "</style>\n",
       "<table border=\"1\" class=\"dataframe\">\n",
       "  <thead>\n",
       "    <tr style=\"text-align: right;\">\n",
       "      <th></th>\n",
       "      <th>No</th>\n",
       "      <th>First Name</th>\n",
       "      <th>Last Name</th>\n",
       "      <th>Gender</th>\n",
       "      <th>Start Date</th>\n",
       "      <th>Years</th>\n",
       "      <th>Department</th>\n",
       "      <th>Country</th>\n",
       "      <th>Center</th>\n",
       "      <th>Monthly Salary</th>\n",
       "      <th>Annual Salary</th>\n",
       "      <th>Job Rate</th>\n",
       "      <th>Sick Leaves</th>\n",
       "      <th>Unpaid Leaves</th>\n",
       "      <th>Overtime Hours</th>\n",
       "    </tr>\n",
       "  </thead>\n",
       "  <tbody>\n",
       "    <tr>\n",
       "      <th>0</th>\n",
       "      <td>1</td>\n",
       "      <td>Ghadir</td>\n",
       "      <td>Hmshw</td>\n",
       "      <td>Male</td>\n",
       "      <td>2018-04-04</td>\n",
       "      <td>2</td>\n",
       "      <td>Quality Control</td>\n",
       "      <td>Egypt</td>\n",
       "      <td>West</td>\n",
       "      <td>1560</td>\n",
       "      <td>18720</td>\n",
       "      <td>3.0</td>\n",
       "      <td>1</td>\n",
       "      <td>0</td>\n",
       "      <td>183</td>\n",
       "    </tr>\n",
       "    <tr>\n",
       "      <th>1</th>\n",
       "      <td>2</td>\n",
       "      <td>Omar</td>\n",
       "      <td>Hishan</td>\n",
       "      <td>Male</td>\n",
       "      <td>2020-05-21</td>\n",
       "      <td>0</td>\n",
       "      <td>Quality Control</td>\n",
       "      <td>Saudi Arabia</td>\n",
       "      <td>West</td>\n",
       "      <td>3247</td>\n",
       "      <td>38964</td>\n",
       "      <td>1.0</td>\n",
       "      <td>0</td>\n",
       "      <td>5</td>\n",
       "      <td>198</td>\n",
       "    </tr>\n",
       "    <tr>\n",
       "      <th>2</th>\n",
       "      <td>3</td>\n",
       "      <td>Ailya</td>\n",
       "      <td>Sharaf</td>\n",
       "      <td>Female</td>\n",
       "      <td>2017-09-28</td>\n",
       "      <td>3</td>\n",
       "      <td>Major Mfg Projects</td>\n",
       "      <td>Saudi Arabia</td>\n",
       "      <td>West</td>\n",
       "      <td>2506</td>\n",
       "      <td>30072</td>\n",
       "      <td>2.0</td>\n",
       "      <td>0</td>\n",
       "      <td>3</td>\n",
       "      <td>192</td>\n",
       "    </tr>\n",
       "    <tr>\n",
       "      <th>3</th>\n",
       "      <td>4</td>\n",
       "      <td>Lwiy</td>\n",
       "      <td>Qbany</td>\n",
       "      <td>Male</td>\n",
       "      <td>2018-08-14</td>\n",
       "      <td>2</td>\n",
       "      <td>Manufacturing</td>\n",
       "      <td>United Arab Emirates</td>\n",
       "      <td>Main</td>\n",
       "      <td>1828</td>\n",
       "      <td>21936</td>\n",
       "      <td>3.0</td>\n",
       "      <td>0</td>\n",
       "      <td>0</td>\n",
       "      <td>7</td>\n",
       "    </tr>\n",
       "    <tr>\n",
       "      <th>4</th>\n",
       "      <td>5</td>\n",
       "      <td>Ahmad</td>\n",
       "      <td>Bikri</td>\n",
       "      <td>Male</td>\n",
       "      <td>2020-03-11</td>\n",
       "      <td>0</td>\n",
       "      <td>Manufacturing</td>\n",
       "      <td>Egypt</td>\n",
       "      <td>Main</td>\n",
       "      <td>970</td>\n",
       "      <td>11640</td>\n",
       "      <td>5.0</td>\n",
       "      <td>0</td>\n",
       "      <td>5</td>\n",
       "      <td>121</td>\n",
       "    </tr>\n",
       "  </tbody>\n",
       "</table>\n",
       "</div>"
      ],
      "text/plain": [
       "   No First Name Last Name  Gender Start Date  Years          Department  \\\n",
       "0   1     Ghadir     Hmshw    Male 2018-04-04      2     Quality Control   \n",
       "1   2       Omar    Hishan    Male 2020-05-21      0     Quality Control   \n",
       "2   3      Ailya    Sharaf  Female 2017-09-28      3  Major Mfg Projects   \n",
       "3   4       Lwiy     Qbany    Male 2018-08-14      2       Manufacturing   \n",
       "4   5      Ahmad     Bikri    Male 2020-03-11      0       Manufacturing   \n",
       "\n",
       "                Country Center  Monthly Salary  Annual Salary  Job Rate  \\\n",
       "0                 Egypt   West            1560          18720       3.0   \n",
       "1          Saudi Arabia   West            3247          38964       1.0   \n",
       "2          Saudi Arabia   West            2506          30072       2.0   \n",
       "3  United Arab Emirates   Main            1828          21936       3.0   \n",
       "4                 Egypt   Main             970          11640       5.0   \n",
       "\n",
       "   Sick Leaves  Unpaid Leaves  Overtime Hours  \n",
       "0            1              0             183  \n",
       "1            0              5             198  \n",
       "2            0              3             192  \n",
       "3            0              0               7  \n",
       "4            0              5             121  "
      ]
     },
     "execution_count": 4,
     "metadata": {},
     "output_type": "execute_result"
    }
   ],
   "source": [
    "df.head()"
   ]
  },
  {
   "cell_type": "code",
   "execution_count": 5,
   "id": "8634a609",
   "metadata": {},
   "outputs": [
    {
     "data": {
      "application/vnd.microsoft.datawrangler.viewer.v0+json": {
       "columns": [
        {
         "name": "index",
         "rawType": "int64",
         "type": "integer"
        },
        {
         "name": "No",
         "rawType": "int64",
         "type": "integer"
        },
        {
         "name": "First Name",
         "rawType": "object",
         "type": "string"
        },
        {
         "name": "Last Name",
         "rawType": "object",
         "type": "string"
        },
        {
         "name": "Gender",
         "rawType": "object",
         "type": "string"
        },
        {
         "name": "Start Date",
         "rawType": "datetime64[ns]",
         "type": "datetime"
        },
        {
         "name": "Years",
         "rawType": "int64",
         "type": "integer"
        },
        {
         "name": "Department",
         "rawType": "object",
         "type": "string"
        },
        {
         "name": "Country",
         "rawType": "object",
         "type": "string"
        },
        {
         "name": "Center",
         "rawType": "object",
         "type": "string"
        },
        {
         "name": "Monthly Salary",
         "rawType": "int64",
         "type": "integer"
        },
        {
         "name": "Annual Salary",
         "rawType": "int64",
         "type": "integer"
        },
        {
         "name": "Job Rate",
         "rawType": "float64",
         "type": "float"
        },
        {
         "name": "Sick Leaves",
         "rawType": "int64",
         "type": "integer"
        },
        {
         "name": "Unpaid Leaves",
         "rawType": "int64",
         "type": "integer"
        },
        {
         "name": "Overtime Hours",
         "rawType": "int64",
         "type": "integer"
        }
       ],
       "ref": "6458bb42-7d41-436d-bfa0-e611b1c6c436",
       "rows": [
        [
         "684",
         "685",
         "Sari",
         "Hanna",
         "Male",
         "2020-05-26 00:00:00",
         "0",
         "Marketing",
         "Lebanon",
         "South",
         "1452",
         "17424",
         "2.0",
         "0",
         "3",
         "1"
        ],
        [
         "685",
         "686",
         "Eubayda",
         "Kayd",
         "Male",
         "2020-06-03 00:00:00",
         "0",
         "Facilities/Engineering",
         "Egypt",
         "North",
         "3237",
         "38844",
         "3.0",
         "1",
         "0",
         "4"
        ],
        [
         "686",
         "687",
         "Khalil",
         "Alkalu",
         "Male",
         "2017-07-11 00:00:00",
         "3",
         "Facilities/Engineering",
         "Egypt",
         "North",
         "2819",
         "33828",
         "5.0",
         "0",
         "0",
         "0"
        ],
        [
         "687",
         "688",
         "Muhamad",
         "Shrbjy",
         "Male",
         "2018-05-30 00:00:00",
         "2",
         "Creative",
         "Egypt",
         "North",
         "2069",
         "24828",
         "3.0",
         "0",
         "0",
         "10"
        ],
        [
         "688",
         "689",
         "Abd Albasit",
         "AlAhmar",
         "Male",
         "2020-08-05 00:00:00",
         "0",
         "IT",
         "United Arab Emirates",
         "North",
         "2606",
         "31272",
         "5.0",
         "0",
         "0",
         "0"
        ]
       ],
       "shape": {
        "columns": 15,
        "rows": 5
       }
      },
      "text/html": [
       "<div>\n",
       "<style scoped>\n",
       "    .dataframe tbody tr th:only-of-type {\n",
       "        vertical-align: middle;\n",
       "    }\n",
       "\n",
       "    .dataframe tbody tr th {\n",
       "        vertical-align: top;\n",
       "    }\n",
       "\n",
       "    .dataframe thead th {\n",
       "        text-align: right;\n",
       "    }\n",
       "</style>\n",
       "<table border=\"1\" class=\"dataframe\">\n",
       "  <thead>\n",
       "    <tr style=\"text-align: right;\">\n",
       "      <th></th>\n",
       "      <th>No</th>\n",
       "      <th>First Name</th>\n",
       "      <th>Last Name</th>\n",
       "      <th>Gender</th>\n",
       "      <th>Start Date</th>\n",
       "      <th>Years</th>\n",
       "      <th>Department</th>\n",
       "      <th>Country</th>\n",
       "      <th>Center</th>\n",
       "      <th>Monthly Salary</th>\n",
       "      <th>Annual Salary</th>\n",
       "      <th>Job Rate</th>\n",
       "      <th>Sick Leaves</th>\n",
       "      <th>Unpaid Leaves</th>\n",
       "      <th>Overtime Hours</th>\n",
       "    </tr>\n",
       "  </thead>\n",
       "  <tbody>\n",
       "    <tr>\n",
       "      <th>684</th>\n",
       "      <td>685</td>\n",
       "      <td>Sari</td>\n",
       "      <td>Hanna</td>\n",
       "      <td>Male</td>\n",
       "      <td>2020-05-26</td>\n",
       "      <td>0</td>\n",
       "      <td>Marketing</td>\n",
       "      <td>Lebanon</td>\n",
       "      <td>South</td>\n",
       "      <td>1452</td>\n",
       "      <td>17424</td>\n",
       "      <td>2.0</td>\n",
       "      <td>0</td>\n",
       "      <td>3</td>\n",
       "      <td>1</td>\n",
       "    </tr>\n",
       "    <tr>\n",
       "      <th>685</th>\n",
       "      <td>686</td>\n",
       "      <td>Eubayda</td>\n",
       "      <td>Kayd</td>\n",
       "      <td>Male</td>\n",
       "      <td>2020-06-03</td>\n",
       "      <td>0</td>\n",
       "      <td>Facilities/Engineering</td>\n",
       "      <td>Egypt</td>\n",
       "      <td>North</td>\n",
       "      <td>3237</td>\n",
       "      <td>38844</td>\n",
       "      <td>3.0</td>\n",
       "      <td>1</td>\n",
       "      <td>0</td>\n",
       "      <td>4</td>\n",
       "    </tr>\n",
       "    <tr>\n",
       "      <th>686</th>\n",
       "      <td>687</td>\n",
       "      <td>Khalil</td>\n",
       "      <td>Alkalu</td>\n",
       "      <td>Male</td>\n",
       "      <td>2017-07-11</td>\n",
       "      <td>3</td>\n",
       "      <td>Facilities/Engineering</td>\n",
       "      <td>Egypt</td>\n",
       "      <td>North</td>\n",
       "      <td>2819</td>\n",
       "      <td>33828</td>\n",
       "      <td>5.0</td>\n",
       "      <td>0</td>\n",
       "      <td>0</td>\n",
       "      <td>0</td>\n",
       "    </tr>\n",
       "    <tr>\n",
       "      <th>687</th>\n",
       "      <td>688</td>\n",
       "      <td>Muhamad</td>\n",
       "      <td>Shrbjy</td>\n",
       "      <td>Male</td>\n",
       "      <td>2018-05-30</td>\n",
       "      <td>2</td>\n",
       "      <td>Creative</td>\n",
       "      <td>Egypt</td>\n",
       "      <td>North</td>\n",
       "      <td>2069</td>\n",
       "      <td>24828</td>\n",
       "      <td>3.0</td>\n",
       "      <td>0</td>\n",
       "      <td>0</td>\n",
       "      <td>10</td>\n",
       "    </tr>\n",
       "    <tr>\n",
       "      <th>688</th>\n",
       "      <td>689</td>\n",
       "      <td>Abd Albasit</td>\n",
       "      <td>AlAhmar</td>\n",
       "      <td>Male</td>\n",
       "      <td>2020-08-05</td>\n",
       "      <td>0</td>\n",
       "      <td>IT</td>\n",
       "      <td>United Arab Emirates</td>\n",
       "      <td>North</td>\n",
       "      <td>2606</td>\n",
       "      <td>31272</td>\n",
       "      <td>5.0</td>\n",
       "      <td>0</td>\n",
       "      <td>0</td>\n",
       "      <td>0</td>\n",
       "    </tr>\n",
       "  </tbody>\n",
       "</table>\n",
       "</div>"
      ],
      "text/plain": [
       "      No   First Name Last Name Gender Start Date  Years  \\\n",
       "684  685         Sari     Hanna   Male 2020-05-26      0   \n",
       "685  686      Eubayda      Kayd   Male 2020-06-03      0   \n",
       "686  687       Khalil    Alkalu   Male 2017-07-11      3   \n",
       "687  688      Muhamad    Shrbjy   Male 2018-05-30      2   \n",
       "688  689  Abd Albasit   AlAhmar   Male 2020-08-05      0   \n",
       "\n",
       "                 Department               Country Center  Monthly Salary  \\\n",
       "684               Marketing               Lebanon  South            1452   \n",
       "685  Facilities/Engineering                 Egypt  North            3237   \n",
       "686  Facilities/Engineering                 Egypt  North            2819   \n",
       "687                Creative                 Egypt  North            2069   \n",
       "688                      IT  United Arab Emirates  North            2606   \n",
       "\n",
       "     Annual Salary  Job Rate  Sick Leaves  Unpaid Leaves  Overtime Hours  \n",
       "684          17424       2.0            0              3               1  \n",
       "685          38844       3.0            1              0               4  \n",
       "686          33828       5.0            0              0               0  \n",
       "687          24828       3.0            0              0              10  \n",
       "688          31272       5.0            0              0               0  "
      ]
     },
     "execution_count": 5,
     "metadata": {},
     "output_type": "execute_result"
    }
   ],
   "source": [
    "df.tail()"
   ]
  },
  {
   "cell_type": "code",
   "execution_count": 6,
   "id": "0e3b254b",
   "metadata": {},
   "outputs": [
    {
     "name": "stdout",
     "output_type": "stream",
     "text": [
      "<class 'pandas.core.frame.DataFrame'>\n",
      "RangeIndex: 689 entries, 0 to 688\n",
      "Data columns (total 15 columns):\n",
      " #   Column          Non-Null Count  Dtype         \n",
      "---  ------          --------------  -----         \n",
      " 0   No              689 non-null    int64         \n",
      " 1   First Name      689 non-null    object        \n",
      " 2   Last Name       689 non-null    object        \n",
      " 3   Gender          689 non-null    object        \n",
      " 4   Start Date      689 non-null    datetime64[ns]\n",
      " 5   Years           689 non-null    int64         \n",
      " 6   Department      689 non-null    object        \n",
      " 7   Country         689 non-null    object        \n",
      " 8   Center          689 non-null    object        \n",
      " 9   Monthly Salary  689 non-null    int64         \n",
      " 10  Annual Salary   689 non-null    int64         \n",
      " 11  Job Rate        689 non-null    float64       \n",
      " 12  Sick Leaves     689 non-null    int64         \n",
      " 13  Unpaid Leaves   689 non-null    int64         \n",
      " 14  Overtime Hours  689 non-null    int64         \n",
      "dtypes: datetime64[ns](1), float64(1), int64(7), object(6)\n",
      "memory usage: 80.9+ KB\n"
     ]
    }
   ],
   "source": [
    "df.info()"
   ]
  },
  {
   "cell_type": "code",
   "execution_count": 7,
   "id": "1da7e430",
   "metadata": {},
   "outputs": [
    {
     "data": {
      "text/plain": [
       "Index(['No', 'First Name', 'Last Name', 'Gender', 'Start Date', 'Years',\n",
       "       'Department', 'Country', 'Center', 'Monthly Salary', 'Annual Salary',\n",
       "       'Job Rate', 'Sick Leaves', 'Unpaid Leaves', 'Overtime Hours'],\n",
       "      dtype='object')"
      ]
     },
     "execution_count": 7,
     "metadata": {},
     "output_type": "execute_result"
    }
   ],
   "source": [
    "df.columns"
   ]
  },
  {
   "cell_type": "code",
   "execution_count": 8,
   "id": "a8fb17f3",
   "metadata": {},
   "outputs": [
    {
     "data": {
      "application/vnd.microsoft.datawrangler.viewer.v0+json": {
       "columns": [
        {
         "name": "index",
         "rawType": "object",
         "type": "string"
        },
        {
         "name": "0",
         "rawType": "object",
         "type": "unknown"
        }
       ],
       "ref": "7a451235-f380-4a6e-a7b3-cc2b44fc47cc",
       "rows": [
        [
         "No",
         "int64"
        ],
        [
         "First Name",
         "object"
        ],
        [
         "Last Name",
         "object"
        ],
        [
         "Gender",
         "object"
        ],
        [
         "Start Date",
         "datetime64[ns]"
        ],
        [
         "Years",
         "int64"
        ],
        [
         "Department",
         "object"
        ],
        [
         "Country",
         "object"
        ],
        [
         "Center",
         "object"
        ],
        [
         "Monthly Salary",
         "int64"
        ],
        [
         "Annual Salary",
         "int64"
        ],
        [
         "Job Rate",
         "float64"
        ],
        [
         "Sick Leaves",
         "int64"
        ],
        [
         "Unpaid Leaves",
         "int64"
        ],
        [
         "Overtime Hours",
         "int64"
        ]
       ],
       "shape": {
        "columns": 1,
        "rows": 15
       }
      },
      "text/plain": [
       "No                         int64\n",
       "First Name                object\n",
       "Last Name                 object\n",
       "Gender                    object\n",
       "Start Date        datetime64[ns]\n",
       "Years                      int64\n",
       "Department                object\n",
       "Country                   object\n",
       "Center                    object\n",
       "Monthly Salary             int64\n",
       "Annual Salary              int64\n",
       "Job Rate                 float64\n",
       "Sick Leaves                int64\n",
       "Unpaid Leaves              int64\n",
       "Overtime Hours             int64\n",
       "dtype: object"
      ]
     },
     "execution_count": 8,
     "metadata": {},
     "output_type": "execute_result"
    }
   ],
   "source": [
    "df.dtypes"
   ]
  },
  {
   "cell_type": "code",
   "execution_count": 9,
   "id": "e9742209",
   "metadata": {},
   "outputs": [
    {
     "data": {
      "application/vnd.microsoft.datawrangler.viewer.v0+json": {
       "columns": [
        {
         "name": "index",
         "rawType": "object",
         "type": "string"
        },
        {
         "name": "No",
         "rawType": "float64",
         "type": "float"
        },
        {
         "name": "Start Date",
         "rawType": "object",
         "type": "unknown"
        },
        {
         "name": "Years",
         "rawType": "float64",
         "type": "float"
        },
        {
         "name": "Monthly Salary",
         "rawType": "float64",
         "type": "float"
        },
        {
         "name": "Annual Salary",
         "rawType": "float64",
         "type": "float"
        },
        {
         "name": "Job Rate",
         "rawType": "float64",
         "type": "float"
        },
        {
         "name": "Sick Leaves",
         "rawType": "float64",
         "type": "float"
        },
        {
         "name": "Unpaid Leaves",
         "rawType": "float64",
         "type": "float"
        },
        {
         "name": "Overtime Hours",
         "rawType": "float64",
         "type": "float"
        }
       ],
       "ref": "a9992c3b-e276-4193-9658-57a071d4e133",
       "rows": [
        [
         "count",
         "689.0",
         "689",
         "689.0",
         "689.0",
         "689.0",
         "689.0",
         "689.0",
         "689.0",
         "689.0"
        ],
        [
         "mean",
         "345.0",
         "2019-01-25 09:20:06.966618368",
         "1.48",
         "2068.2",
         "24818.42",
         "3.59",
         "1.61",
         "0.76",
         "13.7"
        ],
        [
         "min",
         "1.0",
         "2016-01-08 00:00:00",
         "0.0",
         "703.0",
         "8436.0",
         "1.0",
         "0.0",
         "0.0",
         "0.0"
        ],
        [
         "25%",
         "173.0",
         "2018-04-05 00:00:00",
         "1.0",
         "1436.0",
         "17232.0",
         "3.0",
         "0.0",
         "0.0",
         "3.0"
        ],
        [
         "50%",
         "345.0",
         "2019-04-03 00:00:00",
         "1.0",
         "2077.0",
         "24924.0",
         "3.0",
         "0.0",
         "0.0",
         "7.0"
        ],
        [
         "75%",
         "517.0",
         "2019-12-22 00:00:00",
         "2.0",
         "2682.0",
         "32184.0",
         "5.0",
         "3.0",
         "0.0",
         "10.0"
        ],
        [
         "max",
         "689.0",
         "2020-12-29 00:00:00",
         "5.0",
         "3450.0",
         "41400.0",
         "5.0",
         "6.0",
         "6.0",
         "198.0"
        ],
        [
         "std",
         "199.04",
         null,
         "1.19",
         "763.29",
         "9159.47",
         "1.35",
         "2.2",
         "1.65",
         "25.69"
        ]
       ],
       "shape": {
        "columns": 9,
        "rows": 8
       }
      },
      "text/html": [
       "<div>\n",
       "<style scoped>\n",
       "    .dataframe tbody tr th:only-of-type {\n",
       "        vertical-align: middle;\n",
       "    }\n",
       "\n",
       "    .dataframe tbody tr th {\n",
       "        vertical-align: top;\n",
       "    }\n",
       "\n",
       "    .dataframe thead th {\n",
       "        text-align: right;\n",
       "    }\n",
       "</style>\n",
       "<table border=\"1\" class=\"dataframe\">\n",
       "  <thead>\n",
       "    <tr style=\"text-align: right;\">\n",
       "      <th></th>\n",
       "      <th>No</th>\n",
       "      <th>Start Date</th>\n",
       "      <th>Years</th>\n",
       "      <th>Monthly Salary</th>\n",
       "      <th>Annual Salary</th>\n",
       "      <th>Job Rate</th>\n",
       "      <th>Sick Leaves</th>\n",
       "      <th>Unpaid Leaves</th>\n",
       "      <th>Overtime Hours</th>\n",
       "    </tr>\n",
       "  </thead>\n",
       "  <tbody>\n",
       "    <tr>\n",
       "      <th>count</th>\n",
       "      <td>689.00</td>\n",
       "      <td>689</td>\n",
       "      <td>689.00</td>\n",
       "      <td>689.00</td>\n",
       "      <td>689.00</td>\n",
       "      <td>689.00</td>\n",
       "      <td>689.00</td>\n",
       "      <td>689.00</td>\n",
       "      <td>689.00</td>\n",
       "    </tr>\n",
       "    <tr>\n",
       "      <th>mean</th>\n",
       "      <td>345.00</td>\n",
       "      <td>2019-01-25 09:20:06.966618368</td>\n",
       "      <td>1.48</td>\n",
       "      <td>2068.20</td>\n",
       "      <td>24818.42</td>\n",
       "      <td>3.59</td>\n",
       "      <td>1.61</td>\n",
       "      <td>0.76</td>\n",
       "      <td>13.70</td>\n",
       "    </tr>\n",
       "    <tr>\n",
       "      <th>min</th>\n",
       "      <td>1.00</td>\n",
       "      <td>2016-01-08 00:00:00</td>\n",
       "      <td>0.00</td>\n",
       "      <td>703.00</td>\n",
       "      <td>8436.00</td>\n",
       "      <td>1.00</td>\n",
       "      <td>0.00</td>\n",
       "      <td>0.00</td>\n",
       "      <td>0.00</td>\n",
       "    </tr>\n",
       "    <tr>\n",
       "      <th>25%</th>\n",
       "      <td>173.00</td>\n",
       "      <td>2018-04-05 00:00:00</td>\n",
       "      <td>1.00</td>\n",
       "      <td>1436.00</td>\n",
       "      <td>17232.00</td>\n",
       "      <td>3.00</td>\n",
       "      <td>0.00</td>\n",
       "      <td>0.00</td>\n",
       "      <td>3.00</td>\n",
       "    </tr>\n",
       "    <tr>\n",
       "      <th>50%</th>\n",
       "      <td>345.00</td>\n",
       "      <td>2019-04-03 00:00:00</td>\n",
       "      <td>1.00</td>\n",
       "      <td>2077.00</td>\n",
       "      <td>24924.00</td>\n",
       "      <td>3.00</td>\n",
       "      <td>0.00</td>\n",
       "      <td>0.00</td>\n",
       "      <td>7.00</td>\n",
       "    </tr>\n",
       "    <tr>\n",
       "      <th>75%</th>\n",
       "      <td>517.00</td>\n",
       "      <td>2019-12-22 00:00:00</td>\n",
       "      <td>2.00</td>\n",
       "      <td>2682.00</td>\n",
       "      <td>32184.00</td>\n",
       "      <td>5.00</td>\n",
       "      <td>3.00</td>\n",
       "      <td>0.00</td>\n",
       "      <td>10.00</td>\n",
       "    </tr>\n",
       "    <tr>\n",
       "      <th>max</th>\n",
       "      <td>689.00</td>\n",
       "      <td>2020-12-29 00:00:00</td>\n",
       "      <td>5.00</td>\n",
       "      <td>3450.00</td>\n",
       "      <td>41400.00</td>\n",
       "      <td>5.00</td>\n",
       "      <td>6.00</td>\n",
       "      <td>6.00</td>\n",
       "      <td>198.00</td>\n",
       "    </tr>\n",
       "    <tr>\n",
       "      <th>std</th>\n",
       "      <td>199.04</td>\n",
       "      <td>NaN</td>\n",
       "      <td>1.19</td>\n",
       "      <td>763.29</td>\n",
       "      <td>9159.47</td>\n",
       "      <td>1.35</td>\n",
       "      <td>2.20</td>\n",
       "      <td>1.65</td>\n",
       "      <td>25.69</td>\n",
       "    </tr>\n",
       "  </tbody>\n",
       "</table>\n",
       "</div>"
      ],
      "text/plain": [
       "           No                     Start Date   Years  Monthly Salary  \\\n",
       "count  689.00                            689  689.00          689.00   \n",
       "mean   345.00  2019-01-25 09:20:06.966618368    1.48         2068.20   \n",
       "min      1.00            2016-01-08 00:00:00    0.00          703.00   \n",
       "25%    173.00            2018-04-05 00:00:00    1.00         1436.00   \n",
       "50%    345.00            2019-04-03 00:00:00    1.00         2077.00   \n",
       "75%    517.00            2019-12-22 00:00:00    2.00         2682.00   \n",
       "max    689.00            2020-12-29 00:00:00    5.00         3450.00   \n",
       "std    199.04                            NaN    1.19          763.29   \n",
       "\n",
       "       Annual Salary  Job Rate  Sick Leaves  Unpaid Leaves  Overtime Hours  \n",
       "count         689.00    689.00       689.00         689.00          689.00  \n",
       "mean        24818.42      3.59         1.61           0.76           13.70  \n",
       "min          8436.00      1.00         0.00           0.00            0.00  \n",
       "25%         17232.00      3.00         0.00           0.00            3.00  \n",
       "50%         24924.00      3.00         0.00           0.00            7.00  \n",
       "75%         32184.00      5.00         3.00           0.00           10.00  \n",
       "max         41400.00      5.00         6.00           6.00          198.00  \n",
       "std          9159.47      1.35         2.20           1.65           25.69  "
      ]
     },
     "execution_count": 9,
     "metadata": {},
     "output_type": "execute_result"
    }
   ],
   "source": [
    "df.describe().round(2)"
   ]
  },
  {
   "cell_type": "code",
   "execution_count": 10,
   "id": "605dec1c",
   "metadata": {},
   "outputs": [
    {
     "data": {
      "application/vnd.microsoft.datawrangler.viewer.v0+json": {
       "columns": [
        {
         "name": "index",
         "rawType": "object",
         "type": "string"
        },
        {
         "name": "0",
         "rawType": "int64",
         "type": "integer"
        }
       ],
       "ref": "1c91d7e0-74e7-452d-adc3-a317640bc02d",
       "rows": [
        [
         "No",
         "0"
        ],
        [
         "First Name",
         "0"
        ],
        [
         "Last Name",
         "0"
        ],
        [
         "Gender",
         "0"
        ],
        [
         "Start Date",
         "0"
        ],
        [
         "Years",
         "0"
        ],
        [
         "Department",
         "0"
        ],
        [
         "Country",
         "0"
        ],
        [
         "Center",
         "0"
        ],
        [
         "Monthly Salary",
         "0"
        ],
        [
         "Annual Salary",
         "0"
        ],
        [
         "Job Rate",
         "0"
        ],
        [
         "Sick Leaves",
         "0"
        ],
        [
         "Unpaid Leaves",
         "0"
        ],
        [
         "Overtime Hours",
         "0"
        ]
       ],
       "shape": {
        "columns": 1,
        "rows": 15
       }
      },
      "text/plain": [
       "No                0\n",
       "First Name        0\n",
       "Last Name         0\n",
       "Gender            0\n",
       "Start Date        0\n",
       "Years             0\n",
       "Department        0\n",
       "Country           0\n",
       "Center            0\n",
       "Monthly Salary    0\n",
       "Annual Salary     0\n",
       "Job Rate          0\n",
       "Sick Leaves       0\n",
       "Unpaid Leaves     0\n",
       "Overtime Hours    0\n",
       "dtype: int64"
      ]
     },
     "execution_count": 10,
     "metadata": {},
     "output_type": "execute_result"
    }
   ],
   "source": [
    "df.isnull().sum()"
   ]
  },
  {
   "cell_type": "code",
   "execution_count": 11,
   "id": "9135cebd",
   "metadata": {},
   "outputs": [
    {
     "data": {
      "text/plain": [
       "(689, 15)"
      ]
     },
     "execution_count": 11,
     "metadata": {},
     "output_type": "execute_result"
    }
   ],
   "source": [
    "df.shape"
   ]
  },
  {
   "cell_type": "code",
   "execution_count": 12,
   "id": "7410d95e",
   "metadata": {},
   "outputs": [],
   "source": [
    "# Strip spaces and unify case\n",
    "df['Country'] = df['Country'].str.strip().str.title()\n",
    "df['Department'] = df['Department'].str.strip().str.title()"
   ]
  },
  {
   "cell_type": "code",
   "execution_count": 13,
   "id": "53e9015c",
   "metadata": {},
   "outputs": [],
   "source": [
    "df.dropna(inplace=True)"
   ]
  },
  {
   "cell_type": "code",
   "execution_count": 14,
   "id": "e7c339e0",
   "metadata": {},
   "outputs": [
    {
     "data": {
      "application/vnd.microsoft.datawrangler.viewer.v0+json": {
       "columns": [
        {
         "name": "index",
         "rawType": "int64",
         "type": "integer"
        },
        {
         "name": "0",
         "rawType": "bool",
         "type": "boolean"
        }
       ],
       "ref": "1ee8ea84-1b35-4470-aedc-ffeb6a57f586",
       "rows": [
        [
         "0",
         "False"
        ],
        [
         "1",
         "False"
        ],
        [
         "2",
         "False"
        ],
        [
         "3",
         "False"
        ],
        [
         "4",
         "False"
        ],
        [
         "5",
         "False"
        ],
        [
         "6",
         "False"
        ],
        [
         "7",
         "False"
        ],
        [
         "8",
         "False"
        ],
        [
         "9",
         "False"
        ],
        [
         "10",
         "False"
        ],
        [
         "11",
         "False"
        ],
        [
         "12",
         "False"
        ],
        [
         "13",
         "False"
        ],
        [
         "14",
         "False"
        ],
        [
         "15",
         "False"
        ],
        [
         "16",
         "False"
        ],
        [
         "17",
         "False"
        ],
        [
         "18",
         "False"
        ],
        [
         "19",
         "False"
        ],
        [
         "20",
         "False"
        ],
        [
         "21",
         "False"
        ],
        [
         "22",
         "False"
        ],
        [
         "23",
         "False"
        ],
        [
         "24",
         "False"
        ],
        [
         "25",
         "False"
        ],
        [
         "26",
         "False"
        ],
        [
         "27",
         "False"
        ],
        [
         "28",
         "False"
        ],
        [
         "29",
         "False"
        ],
        [
         "30",
         "False"
        ],
        [
         "31",
         "False"
        ],
        [
         "32",
         "False"
        ],
        [
         "33",
         "False"
        ],
        [
         "34",
         "False"
        ],
        [
         "35",
         "False"
        ],
        [
         "36",
         "False"
        ],
        [
         "37",
         "False"
        ],
        [
         "38",
         "False"
        ],
        [
         "39",
         "False"
        ],
        [
         "40",
         "False"
        ],
        [
         "41",
         "False"
        ],
        [
         "42",
         "False"
        ],
        [
         "43",
         "False"
        ],
        [
         "44",
         "False"
        ],
        [
         "45",
         "False"
        ],
        [
         "46",
         "False"
        ],
        [
         "47",
         "False"
        ],
        [
         "48",
         "False"
        ],
        [
         "49",
         "False"
        ]
       ],
       "shape": {
        "columns": 1,
        "rows": 689
       }
      },
      "text/plain": [
       "0      False\n",
       "1      False\n",
       "2      False\n",
       "3      False\n",
       "4      False\n",
       "       ...  \n",
       "684    False\n",
       "685    False\n",
       "686    False\n",
       "687    False\n",
       "688    False\n",
       "Length: 689, dtype: bool"
      ]
     },
     "execution_count": 14,
     "metadata": {},
     "output_type": "execute_result"
    }
   ],
   "source": [
    "df.duplicated()"
   ]
  },
  {
   "cell_type": "code",
   "execution_count": 15,
   "id": "95054455",
   "metadata": {},
   "outputs": [],
   "source": [
    "df.drop_duplicates(inplace=True)    "
   ]
  },
  {
   "cell_type": "code",
   "execution_count": 16,
   "id": "3d944349",
   "metadata": {},
   "outputs": [
    {
     "data": {
      "application/vnd.microsoft.datawrangler.viewer.v0+json": {
       "columns": [
        {
         "name": "index",
         "rawType": "int64",
         "type": "integer"
        },
        {
         "name": "No",
         "rawType": "int64",
         "type": "integer"
        },
        {
         "name": "First Name",
         "rawType": "object",
         "type": "string"
        },
        {
         "name": "Last Name",
         "rawType": "object",
         "type": "string"
        },
        {
         "name": "Gender",
         "rawType": "object",
         "type": "string"
        },
        {
         "name": "Start Date",
         "rawType": "datetime64[ns]",
         "type": "datetime"
        },
        {
         "name": "Years",
         "rawType": "int64",
         "type": "integer"
        },
        {
         "name": "Department",
         "rawType": "object",
         "type": "string"
        },
        {
         "name": "Country",
         "rawType": "object",
         "type": "string"
        },
        {
         "name": "Center",
         "rawType": "object",
         "type": "string"
        },
        {
         "name": "Monthly Salary",
         "rawType": "int64",
         "type": "integer"
        },
        {
         "name": "Annual Salary",
         "rawType": "int64",
         "type": "integer"
        },
        {
         "name": "Job Rate",
         "rawType": "float64",
         "type": "float"
        },
        {
         "name": "Sick Leaves",
         "rawType": "int64",
         "type": "integer"
        },
        {
         "name": "Unpaid Leaves",
         "rawType": "int64",
         "type": "integer"
        },
        {
         "name": "Overtime Hours",
         "rawType": "int64",
         "type": "integer"
        }
       ],
       "ref": "a57450a4-2dcd-40a3-a449-9c4966e34b99",
       "rows": [
        [
         "0",
         "1",
         "Ghadir",
         "Hmshw",
         "Male",
         "2018-04-04 00:00:00",
         "2",
         "Quality Control",
         "Egypt",
         "West",
         "1560",
         "18720",
         "3.0",
         "1",
         "0",
         "183"
        ],
        [
         "1",
         "2",
         "Omar",
         "Hishan",
         "Male",
         "2020-05-21 00:00:00",
         "0",
         "Quality Control",
         "Saudi Arabia",
         "West",
         "3247",
         "38964",
         "1.0",
         "0",
         "5",
         "198"
        ],
        [
         "2",
         "3",
         "Ailya",
         "Sharaf",
         "Female",
         "2017-09-28 00:00:00",
         "3",
         "Major Mfg Projects",
         "Saudi Arabia",
         "West",
         "2506",
         "30072",
         "2.0",
         "0",
         "3",
         "192"
        ],
        [
         "3",
         "4",
         "Lwiy",
         "Qbany",
         "Male",
         "2018-08-14 00:00:00",
         "2",
         "Manufacturing",
         "United Arab Emirates",
         "Main",
         "1828",
         "21936",
         "3.0",
         "0",
         "0",
         "7"
        ],
        [
         "4",
         "5",
         "Ahmad",
         "Bikri",
         "Male",
         "2020-03-11 00:00:00",
         "0",
         "Manufacturing",
         "Egypt",
         "Main",
         "970",
         "11640",
         "5.0",
         "0",
         "5",
         "121"
        ],
        [
         "5",
         "6",
         "Muhamad",
         "Zueitr",
         "Male",
         "2016-02-02 00:00:00",
         "4",
         "Product Development",
         "Saudi Arabia",
         "North",
         "2332",
         "27984",
         "3.0",
         "3",
         "0",
         "8"
        ],
        [
         "6",
         "7",
         "Iin",
         "Alhalaliu",
         "Female",
         "2020-05-08 00:00:00",
         "0",
         "Sales",
         "United Arab Emirates",
         "Main",
         "1959",
         "23508",
         "3.0",
         "6",
         "0",
         "116"
        ],
        [
         "7",
         "8",
         "Muhamad",
         "Alaya",
         "Male",
         "2018-02-10 00:00:00",
         "2",
         "Account Management",
         "Egypt",
         "Main",
         "3394",
         "40728",
         "5.0",
         "0",
         "0",
         "7"
        ],
        [
         "8",
         "9",
         "Susin",
         "Almilat",
         "Female",
         "2018-03-11 00:00:00",
         "2",
         "Green Building",
         "Egypt",
         "North",
         "1479",
         "17748",
         "4.5",
         "0",
         "0",
         "105"
        ],
        [
         "9",
         "10",
         "Muhamad",
         "Alrifaei",
         "Male",
         "2020-01-03 00:00:00",
         "1",
         "Account Management",
         "Egypt",
         "Main",
         "1186",
         "14232",
         "4.5",
         "1",
         "0",
         "153"
        ],
        [
         "10",
         "11",
         "Muhamad",
         "Alqadah",
         "Male",
         "2018-01-16 00:00:00",
         "2",
         "Manufacturing",
         "Syria",
         "Main",
         "1485",
         "17820",
         "2.0",
         "5",
         "0",
         "12"
        ],
        [
         "11",
         "12",
         "Muhamad",
         "Iad",
         "Male",
         "2018-07-19 00:00:00",
         "2",
         "It",
         "Egypt",
         "Main",
         "2016",
         "24192",
         "1.0",
         "2",
         "0",
         "70"
        ],
        [
         "12",
         "13",
         "Razaan",
         "Nasif",
         "Female",
         "2018-11-11 00:00:00",
         "2",
         "Facilities/Engineering",
         "Egypt",
         "Main",
         "1999",
         "23988",
         "5.0",
         "6",
         "0",
         "85"
        ],
        [
         "13",
         "14",
         "Iilian",
         "Dbs",
         "Female",
         "2016-03-01 00:00:00",
         "4",
         "Facilities/Engineering",
         "United Arab Emirates",
         "North",
         "3404",
         "40848",
         "5.0",
         "1",
         "0",
         "8"
        ],
        [
         "14",
         "15",
         "Bayan",
         "Qdw",
         "Female",
         "2018-12-04 00:00:00",
         "2",
         "Marketing",
         "Egypt",
         "Main",
         "889",
         "10668",
         "3.0",
         "1",
         "1",
         "8"
        ],
        [
         "15",
         "16",
         "Alaa",
         "Muhamad",
         "Male",
         "2019-10-07 00:00:00",
         "1",
         "Sales",
         "Egypt",
         "South",
         "930",
         "11160",
         "3.0",
         "0",
         "0",
         "77"
        ],
        [
         "16",
         "17",
         "Sandra",
         "Aljurmqaniu",
         "Female",
         "2016-05-27 00:00:00",
         "4",
         "Account Management",
         "Saudi Arabia",
         "West",
         "3149",
         "37788",
         "4.5",
         "0",
         "0",
         "93"
        ],
        [
         "17",
         "18",
         "Farahad",
         "Husayn",
         "Male",
         "2018-05-12 00:00:00",
         "2",
         "Quality Control",
         "United Arab Emirates",
         "West",
         "1295",
         "15540",
         "3.0",
         "4",
         "0",
         "153"
        ],
        [
         "18",
         "19",
         "Ahed",
         "Salim",
         "Female",
         "2018-04-24 00:00:00",
         "2",
         "Quality Control",
         "United Arab Emirates",
         "South",
         "2162",
         "25944",
         "3.0",
         "0",
         "0",
         "8"
        ],
        [
         "19",
         "20",
         "Ayham",
         "Tutwnji",
         "Male",
         "2019-10-02 00:00:00",
         "1",
         "Product Development",
         "United Arab Emirates",
         "West",
         "2180",
         "26160",
         "2.0",
         "6",
         "0",
         "10"
        ],
        [
         "20",
         "21",
         "Samir",
         "Alsafdi",
         "Male",
         "2020-12-03 00:00:00",
         "0",
         "Account Management",
         "Egypt",
         "Main",
         "1475",
         "17700",
         "5.0",
         "0",
         "0",
         "98"
        ],
        [
         "21",
         "22",
         "Bilal",
         "Jalal",
         "Male",
         "2019-01-08 00:00:00",
         "2",
         "Manufacturing Admin",
         "Egypt",
         "Main",
         "1290",
         "15480",
         "3.0",
         "4",
         "0",
         "109"
        ],
        [
         "22",
         "23",
         "Riad",
         "Sahalul",
         "Male",
         "2019-11-14 00:00:00",
         "1",
         "Training",
         "Saudi Arabia",
         "Main",
         "1764",
         "21168",
         "3.0",
         "0",
         "0",
         "111"
        ],
        [
         "23",
         "24",
         "Ahmad",
         "Ahmad",
         "Male",
         "2019-10-17 00:00:00",
         "1",
         "Quality Assurance",
         "Saudi Arabia",
         "West",
         "2682",
         "32184",
         "4.5",
         "1",
         "0",
         "32"
        ],
        [
         "24",
         "25",
         "Muhamad",
         "Altarah",
         "Male",
         "2020-12-13 00:00:00",
         "0",
         "It",
         "Egypt",
         "North",
         "3044",
         "36528",
         "3.0",
         "6",
         "0",
         "94"
        ],
        [
         "25",
         "26",
         "Lwna",
         "Abu",
         "Female",
         "2020-08-02 00:00:00",
         "0",
         "Product Development",
         "Egypt",
         "Main",
         "890",
         "10680",
         "4.5",
         "0",
         "0",
         "13"
        ],
        [
         "26",
         "27",
         "Jalal",
         "Almuluhi",
         "Male",
         "2018-12-03 00:00:00",
         "2",
         "Quality Control",
         "Egypt",
         "West",
         "2207",
         "26484",
         "5.0",
         "0",
         "0",
         "70"
        ],
        [
         "27",
         "28",
         "Rana",
         "Mius",
         "Female",
         "2019-03-06 00:00:00",
         "1",
         "Manufacturing",
         "Saudi Arabia",
         "West",
         "2136",
         "25632",
         "4.5",
         "1",
         "0",
         "9"
        ],
        [
         "28",
         "29",
         "Lina",
         "Aljabaan",
         "Female",
         "2019-12-16 00:00:00",
         "1",
         "Quality Control",
         "Egypt",
         "Main",
         "1161",
         "13932",
         "5.0",
         "0",
         "1",
         "97"
        ],
        [
         "29",
         "30",
         "Rami",
         "Shanan",
         "Male",
         "2019-08-13 00:00:00",
         "1",
         "Professional Training Group",
         "United Arab Emirates",
         "West",
         "830",
         "9960",
         "5.0",
         "0",
         "0",
         "71"
        ],
        [
         "30",
         "31",
         "Eala",
         "Alhaj",
         "Female",
         "2020-06-09 00:00:00",
         "0",
         "Quality Assurance",
         "Saudi Arabia",
         "West",
         "2977",
         "35724",
         "5.0",
         "0",
         "0",
         "100"
        ],
        [
         "31",
         "32",
         "Ghalib",
         "Zakianiin",
         "Male",
         "2019-05-19 00:00:00",
         "1",
         "Environmental Compliance",
         "Syria",
         "North",
         "3151",
         "37812",
         "3.0",
         "0",
         "5",
         "48"
        ],
        [
         "32",
         "33",
         "Muhamad",
         "Eurul",
         "Male",
         "2017-05-03 00:00:00",
         "3",
         "Quality Assurance",
         "Egypt",
         "North",
         "1551",
         "18612",
         "1.0",
         "0",
         "0",
         "148"
        ],
        [
         "33",
         "34",
         "Eizat",
         "Ghanim",
         "Male",
         "2017-06-21 00:00:00",
         "3",
         "Product Development",
         "United Arab Emirates",
         "South",
         "2099",
         "25188",
         "1.0",
         "0",
         "0",
         "5"
        ],
        [
         "34",
         "35",
         "Ahmad",
         "Swyd",
         "Male",
         "2017-02-01 00:00:00",
         "3",
         "Sales",
         "Egypt",
         "North",
         "808",
         "9696",
         "4.5",
         "1",
         "0",
         "7"
        ],
        [
         "35",
         "36",
         "Muhamad",
         "Aleass",
         "Male",
         "2019-09-23 00:00:00",
         "1",
         "Manufacturing",
         "Saudi Arabia",
         "Main",
         "984",
         "11808",
         "4.5",
         "6",
         "0",
         "37"
        ],
        [
         "36",
         "37",
         "Rima",
         "AlAsfar",
         "Female",
         "2016-01-27 00:00:00",
         "4",
         "Quality Assurance",
         "Egypt",
         "North",
         "1011",
         "12132",
         "5.0",
         "0",
         "3",
         "5"
        ],
        [
         "37",
         "38",
         "Zayn",
         "Aleabdyn Zaetar",
         "Female",
         "2020-11-29 00:00:00",
         "0",
         "Quality Control",
         "United Arab Emirates",
         "West",
         "2026",
         "24312",
         "5.0",
         "1",
         "0",
         "3"
        ],
        [
         "38",
         "39",
         "Hazim",
         "Alshshatim",
         "Male",
         "2018-06-17 00:00:00",
         "2",
         "Quality Control",
         "Egypt",
         "Main",
         "2801",
         "33612",
         "3.0",
         "0",
         "0",
         "9"
        ],
        [
         "39",
         "40",
         "Dia",
         "Alshahf",
         "Male",
         "2019-09-14 00:00:00",
         "1",
         "Marketing",
         "United Arab Emirates",
         "Main",
         "3208",
         "38496",
         "3.0",
         "0",
         "0",
         "0"
        ],
        [
         "40",
         "41",
         "Ayham",
         "Almusaa",
         "Male",
         "2019-04-26 00:00:00",
         "1",
         "Manufacturing",
         "Saudi Arabia",
         "South",
         "2129",
         "25548",
         "4.5",
         "0",
         "0",
         "26"
        ],
        [
         "41",
         "42",
         "Abd Allatif",
         "Mabrukh",
         "Male",
         "2020-12-10 00:00:00",
         "0",
         "Facilities/Engineering",
         "Egypt",
         "North",
         "3344",
         "40128",
         "5.0",
         "0",
         "0",
         "7"
        ],
        [
         "42",
         "43",
         "Salim",
         "Abumaeun",
         "Male",
         "2017-06-30 00:00:00",
         "3",
         "Account Management",
         "United Arab Emirates",
         "Main",
         "2836",
         "34032",
         "5.0",
         "0",
         "0",
         "14"
        ],
        [
         "43",
         "44",
         "Rafat",
         "Hamza",
         "Male",
         "2020-05-03 00:00:00",
         "0",
         "Quality Control",
         "Saudi Arabia",
         "Main",
         "1960",
         "23520",
         "3.0",
         "0",
         "0",
         "9"
        ],
        [
         "44",
         "45",
         "Ahmad",
         "Laylana",
         "Male",
         "2016-11-27 00:00:00",
         "4",
         "Facilities/Engineering",
         "Egypt",
         "Main",
         "1478",
         "17736",
         "4.5",
         "5",
         "6",
         "7"
        ],
        [
         "45",
         "46",
         "Lobnaa",
         "Khalifih",
         "Female",
         "2019-12-18 00:00:00",
         "1",
         "Marketing",
         "United Arab Emirates",
         "North",
         "1981",
         "23772",
         "2.0",
         "0",
         "0",
         "3"
        ],
        [
         "46",
         "47",
         "Sami",
         "Alkhujih",
         "Male",
         "2019-04-17 00:00:00",
         "1",
         "Creative",
         "United Arab Emirates",
         "Main",
         "2064",
         "24768",
         "2.0",
         "0",
         "0",
         "0"
        ],
        [
         "47",
         "48",
         "Salam",
         "Alealbi",
         "Female",
         "2016-03-09 00:00:00",
         "4",
         "Manufacturing",
         "Egypt",
         "Main",
         "1045",
         "12540",
         "5.0",
         "1",
         "0",
         "3"
        ],
        [
         "48",
         "49",
         "Rim",
         "Almusaa",
         "Female",
         "2020-05-06 00:00:00",
         "0",
         "Manufacturing",
         "Egypt",
         "West",
         "2022",
         "24264",
         "3.0",
         "0",
         "0",
         "1"
        ],
        [
         "49",
         "50",
         "Ghada",
         "Aleasimii",
         "Female",
         "2019-10-21 00:00:00",
         "1",
         "Quality Assurance",
         "Egypt",
         "North",
         "2383",
         "28596",
         "5.0",
         "0",
         "4",
         "1"
        ]
       ],
       "shape": {
        "columns": 15,
        "rows": 689
       }
      },
      "text/html": [
       "<div>\n",
       "<style scoped>\n",
       "    .dataframe tbody tr th:only-of-type {\n",
       "        vertical-align: middle;\n",
       "    }\n",
       "\n",
       "    .dataframe tbody tr th {\n",
       "        vertical-align: top;\n",
       "    }\n",
       "\n",
       "    .dataframe thead th {\n",
       "        text-align: right;\n",
       "    }\n",
       "</style>\n",
       "<table border=\"1\" class=\"dataframe\">\n",
       "  <thead>\n",
       "    <tr style=\"text-align: right;\">\n",
       "      <th></th>\n",
       "      <th>No</th>\n",
       "      <th>First Name</th>\n",
       "      <th>Last Name</th>\n",
       "      <th>Gender</th>\n",
       "      <th>Start Date</th>\n",
       "      <th>Years</th>\n",
       "      <th>Department</th>\n",
       "      <th>Country</th>\n",
       "      <th>Center</th>\n",
       "      <th>Monthly Salary</th>\n",
       "      <th>Annual Salary</th>\n",
       "      <th>Job Rate</th>\n",
       "      <th>Sick Leaves</th>\n",
       "      <th>Unpaid Leaves</th>\n",
       "      <th>Overtime Hours</th>\n",
       "    </tr>\n",
       "  </thead>\n",
       "  <tbody>\n",
       "    <tr>\n",
       "      <th>0</th>\n",
       "      <td>1</td>\n",
       "      <td>Ghadir</td>\n",
       "      <td>Hmshw</td>\n",
       "      <td>Male</td>\n",
       "      <td>2018-04-04</td>\n",
       "      <td>2</td>\n",
       "      <td>Quality Control</td>\n",
       "      <td>Egypt</td>\n",
       "      <td>West</td>\n",
       "      <td>1560</td>\n",
       "      <td>18720</td>\n",
       "      <td>3.0</td>\n",
       "      <td>1</td>\n",
       "      <td>0</td>\n",
       "      <td>183</td>\n",
       "    </tr>\n",
       "    <tr>\n",
       "      <th>1</th>\n",
       "      <td>2</td>\n",
       "      <td>Omar</td>\n",
       "      <td>Hishan</td>\n",
       "      <td>Male</td>\n",
       "      <td>2020-05-21</td>\n",
       "      <td>0</td>\n",
       "      <td>Quality Control</td>\n",
       "      <td>Saudi Arabia</td>\n",
       "      <td>West</td>\n",
       "      <td>3247</td>\n",
       "      <td>38964</td>\n",
       "      <td>1.0</td>\n",
       "      <td>0</td>\n",
       "      <td>5</td>\n",
       "      <td>198</td>\n",
       "    </tr>\n",
       "    <tr>\n",
       "      <th>2</th>\n",
       "      <td>3</td>\n",
       "      <td>Ailya</td>\n",
       "      <td>Sharaf</td>\n",
       "      <td>Female</td>\n",
       "      <td>2017-09-28</td>\n",
       "      <td>3</td>\n",
       "      <td>Major Mfg Projects</td>\n",
       "      <td>Saudi Arabia</td>\n",
       "      <td>West</td>\n",
       "      <td>2506</td>\n",
       "      <td>30072</td>\n",
       "      <td>2.0</td>\n",
       "      <td>0</td>\n",
       "      <td>3</td>\n",
       "      <td>192</td>\n",
       "    </tr>\n",
       "    <tr>\n",
       "      <th>3</th>\n",
       "      <td>4</td>\n",
       "      <td>Lwiy</td>\n",
       "      <td>Qbany</td>\n",
       "      <td>Male</td>\n",
       "      <td>2018-08-14</td>\n",
       "      <td>2</td>\n",
       "      <td>Manufacturing</td>\n",
       "      <td>United Arab Emirates</td>\n",
       "      <td>Main</td>\n",
       "      <td>1828</td>\n",
       "      <td>21936</td>\n",
       "      <td>3.0</td>\n",
       "      <td>0</td>\n",
       "      <td>0</td>\n",
       "      <td>7</td>\n",
       "    </tr>\n",
       "    <tr>\n",
       "      <th>4</th>\n",
       "      <td>5</td>\n",
       "      <td>Ahmad</td>\n",
       "      <td>Bikri</td>\n",
       "      <td>Male</td>\n",
       "      <td>2020-03-11</td>\n",
       "      <td>0</td>\n",
       "      <td>Manufacturing</td>\n",
       "      <td>Egypt</td>\n",
       "      <td>Main</td>\n",
       "      <td>970</td>\n",
       "      <td>11640</td>\n",
       "      <td>5.0</td>\n",
       "      <td>0</td>\n",
       "      <td>5</td>\n",
       "      <td>121</td>\n",
       "    </tr>\n",
       "    <tr>\n",
       "      <th>...</th>\n",
       "      <td>...</td>\n",
       "      <td>...</td>\n",
       "      <td>...</td>\n",
       "      <td>...</td>\n",
       "      <td>...</td>\n",
       "      <td>...</td>\n",
       "      <td>...</td>\n",
       "      <td>...</td>\n",
       "      <td>...</td>\n",
       "      <td>...</td>\n",
       "      <td>...</td>\n",
       "      <td>...</td>\n",
       "      <td>...</td>\n",
       "      <td>...</td>\n",
       "      <td>...</td>\n",
       "    </tr>\n",
       "    <tr>\n",
       "      <th>684</th>\n",
       "      <td>685</td>\n",
       "      <td>Sari</td>\n",
       "      <td>Hanna</td>\n",
       "      <td>Male</td>\n",
       "      <td>2020-05-26</td>\n",
       "      <td>0</td>\n",
       "      <td>Marketing</td>\n",
       "      <td>Lebanon</td>\n",
       "      <td>South</td>\n",
       "      <td>1452</td>\n",
       "      <td>17424</td>\n",
       "      <td>2.0</td>\n",
       "      <td>0</td>\n",
       "      <td>3</td>\n",
       "      <td>1</td>\n",
       "    </tr>\n",
       "    <tr>\n",
       "      <th>685</th>\n",
       "      <td>686</td>\n",
       "      <td>Eubayda</td>\n",
       "      <td>Kayd</td>\n",
       "      <td>Male</td>\n",
       "      <td>2020-06-03</td>\n",
       "      <td>0</td>\n",
       "      <td>Facilities/Engineering</td>\n",
       "      <td>Egypt</td>\n",
       "      <td>North</td>\n",
       "      <td>3237</td>\n",
       "      <td>38844</td>\n",
       "      <td>3.0</td>\n",
       "      <td>1</td>\n",
       "      <td>0</td>\n",
       "      <td>4</td>\n",
       "    </tr>\n",
       "    <tr>\n",
       "      <th>686</th>\n",
       "      <td>687</td>\n",
       "      <td>Khalil</td>\n",
       "      <td>Alkalu</td>\n",
       "      <td>Male</td>\n",
       "      <td>2017-07-11</td>\n",
       "      <td>3</td>\n",
       "      <td>Facilities/Engineering</td>\n",
       "      <td>Egypt</td>\n",
       "      <td>North</td>\n",
       "      <td>2819</td>\n",
       "      <td>33828</td>\n",
       "      <td>5.0</td>\n",
       "      <td>0</td>\n",
       "      <td>0</td>\n",
       "      <td>0</td>\n",
       "    </tr>\n",
       "    <tr>\n",
       "      <th>687</th>\n",
       "      <td>688</td>\n",
       "      <td>Muhamad</td>\n",
       "      <td>Shrbjy</td>\n",
       "      <td>Male</td>\n",
       "      <td>2018-05-30</td>\n",
       "      <td>2</td>\n",
       "      <td>Creative</td>\n",
       "      <td>Egypt</td>\n",
       "      <td>North</td>\n",
       "      <td>2069</td>\n",
       "      <td>24828</td>\n",
       "      <td>3.0</td>\n",
       "      <td>0</td>\n",
       "      <td>0</td>\n",
       "      <td>10</td>\n",
       "    </tr>\n",
       "    <tr>\n",
       "      <th>688</th>\n",
       "      <td>689</td>\n",
       "      <td>Abd Albasit</td>\n",
       "      <td>AlAhmar</td>\n",
       "      <td>Male</td>\n",
       "      <td>2020-08-05</td>\n",
       "      <td>0</td>\n",
       "      <td>It</td>\n",
       "      <td>United Arab Emirates</td>\n",
       "      <td>North</td>\n",
       "      <td>2606</td>\n",
       "      <td>31272</td>\n",
       "      <td>5.0</td>\n",
       "      <td>0</td>\n",
       "      <td>0</td>\n",
       "      <td>0</td>\n",
       "    </tr>\n",
       "  </tbody>\n",
       "</table>\n",
       "<p>689 rows × 15 columns</p>\n",
       "</div>"
      ],
      "text/plain": [
       "      No   First Name Last Name  Gender Start Date  Years  \\\n",
       "0      1       Ghadir     Hmshw    Male 2018-04-04      2   \n",
       "1      2         Omar    Hishan    Male 2020-05-21      0   \n",
       "2      3        Ailya    Sharaf  Female 2017-09-28      3   \n",
       "3      4         Lwiy     Qbany    Male 2018-08-14      2   \n",
       "4      5        Ahmad     Bikri    Male 2020-03-11      0   \n",
       "..   ...          ...       ...     ...        ...    ...   \n",
       "684  685         Sari     Hanna    Male 2020-05-26      0   \n",
       "685  686      Eubayda      Kayd    Male 2020-06-03      0   \n",
       "686  687       Khalil    Alkalu    Male 2017-07-11      3   \n",
       "687  688      Muhamad    Shrbjy    Male 2018-05-30      2   \n",
       "688  689  Abd Albasit   AlAhmar    Male 2020-08-05      0   \n",
       "\n",
       "                 Department               Country Center  Monthly Salary  \\\n",
       "0           Quality Control                 Egypt   West            1560   \n",
       "1           Quality Control          Saudi Arabia   West            3247   \n",
       "2        Major Mfg Projects          Saudi Arabia   West            2506   \n",
       "3             Manufacturing  United Arab Emirates   Main            1828   \n",
       "4             Manufacturing                 Egypt   Main             970   \n",
       "..                      ...                   ...    ...             ...   \n",
       "684               Marketing               Lebanon  South            1452   \n",
       "685  Facilities/Engineering                 Egypt  North            3237   \n",
       "686  Facilities/Engineering                 Egypt  North            2819   \n",
       "687                Creative                 Egypt  North            2069   \n",
       "688                      It  United Arab Emirates  North            2606   \n",
       "\n",
       "     Annual Salary  Job Rate  Sick Leaves  Unpaid Leaves  Overtime Hours  \n",
       "0            18720       3.0            1              0             183  \n",
       "1            38964       1.0            0              5             198  \n",
       "2            30072       2.0            0              3             192  \n",
       "3            21936       3.0            0              0               7  \n",
       "4            11640       5.0            0              5             121  \n",
       "..             ...       ...          ...            ...             ...  \n",
       "684          17424       2.0            0              3               1  \n",
       "685          38844       3.0            1              0               4  \n",
       "686          33828       5.0            0              0               0  \n",
       "687          24828       3.0            0              0              10  \n",
       "688          31272       5.0            0              0               0  \n",
       "\n",
       "[689 rows x 15 columns]"
      ]
     },
     "execution_count": 16,
     "metadata": {},
     "output_type": "execute_result"
    }
   ],
   "source": [
    "df.reset_index(drop=True, inplace=True)\n",
    "df"
   ]
  },
  {
   "cell_type": "code",
   "execution_count": 17,
   "id": "9475190e",
   "metadata": {},
   "outputs": [
    {
     "data": {
      "application/vnd.microsoft.datawrangler.viewer.v0+json": {
       "columns": [
        {
         "name": "Country",
         "rawType": "object",
         "type": "string"
        },
        {
         "name": "count",
         "rawType": "int64",
         "type": "integer"
        }
       ],
       "ref": "09ec8d39-eac5-4f1c-adf3-b4fe29ccec13",
       "rows": [
        [
         "Egypt",
         "379"
        ],
        [
         "United Arab Emirates",
         "156"
        ],
        [
         "Saudi Arabia",
         "90"
        ],
        [
         "Syria",
         "53"
        ],
        [
         "Lebanon",
         "11"
        ]
       ],
       "shape": {
        "columns": 1,
        "rows": 5
       }
      },
      "text/plain": [
       "Country\n",
       "Egypt                   379\n",
       "United Arab Emirates    156\n",
       "Saudi Arabia             90\n",
       "Syria                    53\n",
       "Lebanon                  11\n",
       "Name: count, dtype: int64"
      ]
     },
     "execution_count": 17,
     "metadata": {},
     "output_type": "execute_result"
    }
   ],
   "source": [
    "df['Country'].value_counts()"
   ]
  },
  {
   "cell_type": "code",
   "execution_count": 18,
   "id": "468acb8f",
   "metadata": {},
   "outputs": [
    {
     "data": {
      "application/vnd.microsoft.datawrangler.viewer.v0+json": {
       "columns": [
        {
         "name": "Gender",
         "rawType": "object",
         "type": "string"
        },
        {
         "name": "count",
         "rawType": "int64",
         "type": "integer"
        }
       ],
       "ref": "33a20b5b-bff4-44e6-bf29-3221c98dd024",
       "rows": [
        [
         "Male",
         "449"
        ],
        [
         "Female",
         "240"
        ]
       ],
       "shape": {
        "columns": 1,
        "rows": 2
       }
      },
      "text/plain": [
       "Gender\n",
       "Male      449\n",
       "Female    240\n",
       "Name: count, dtype: int64"
      ]
     },
     "execution_count": 18,
     "metadata": {},
     "output_type": "execute_result"
    }
   ],
   "source": [
    "df[\"Gender\"].value_counts()"
   ]
  },
  {
   "cell_type": "code",
   "execution_count": 19,
   "id": "4cdb5d31",
   "metadata": {},
   "outputs": [],
   "source": [
    "import matplotlib.pyplot as plt\n",
    "import seaborn as sns\n"
   ]
  },
  {
   "cell_type": "code",
   "execution_count": 20,
   "id": "ae135d53",
   "metadata": {},
   "outputs": [
    {
     "name": "stdout",
     "output_type": "stream",
     "text": [
      "c:\\Users\\danai\\OneDrive\\Desktop\\Salary Prediction\\.venv\\Scripts\\python.exe\n"
     ]
    },
    {
     "name": "stderr",
     "output_type": "stream",
     "text": [
      "'c:\\Users\\danai\\OneDrive\\Desktop\\Salary' is not recognized as an internal or external command,\n",
      "operable program or batch file.\n"
     ]
    }
   ],
   "source": [
    "import sys\n",
    "print(sys.executable)\n",
    "!{sys.executable} -m pip install matplotlib seaborn\n"
   ]
  },
  {
   "cell_type": "code",
   "execution_count": 21,
   "id": "74bfa882",
   "metadata": {},
   "outputs": [
    {
     "data": {
      "image/png": "[encoded data removed]",
      "text/plain": [
       "<Figure size 640x480 with 1 Axes>"
      ]
     },
     "metadata": {},
     "output_type": "display_data"
    }
   ],
   "source": [
    "df[\"Gender\"].value_counts().plot(kind='pie', autopct='%1.1f%%', colors=['lightblue', 'lightgreen'])\n",
    "plt.title(\"Gender Distribution\")\n",
    "plt.ylabel(\"\")\n",
    "plt.show()"
   ]
  },
  {
   "cell_type": "code",
   "execution_count": 22,
   "id": "dcc91bd7",
   "metadata": {},
   "outputs": [
    {
     "data": {
      "image/png": "[encoded data removed]",
      "text/plain": [
       "<Figure size 640x480 with 1 Axes>"
      ]
     },
     "metadata": {},
     "output_type": "display_data"
    }
   ],
   "source": [
    "df['Job Rate'].value_counts().sort_values(ascending=True).plot(kind='bar', color='orange')\n",
    "plt.title(\"Job Rate Distribution\")\n",
    "plt.xlabel(\"Job Rate\")\n",
    "plt.ylabel(\"Number of Employees\")\n",
    "plt.show()"
   ]
  },
  {
   "cell_type": "code",
   "execution_count": 23,
   "id": "25cd482e",
   "metadata": {},
   "outputs": [
    {
     "data": {
      "image/png": "[encoded data removed]",
      "text/plain": [
       "<Figure size 1000x600 with 1 Axes>"
      ]
     },
     "metadata": {},
     "output_type": "display_data"
    }
   ],
   "source": [
    "plt.figure(figsize=(10,6))\n",
    "sns.countplot(data=df, x='Country', order=df['Country'].value_counts().index)\n",
    "plt.title(\"Number of Employees by Country\")     \n",
    "plt.xlabel(\"Country\")\n",
    "plt.ylabel(\"Number of Employees\")\n",
    "plt.xticks(rotation=45)\n",
    "plt.show()"
   ]
  },
  {
   "cell_type": "code",
   "execution_count": 24,
   "id": "bfe48239",
   "metadata": {},
   "outputs": [
    {
     "data": {
      "image/png": "[encoded data removed]",
      "text/plain": [
       "<Figure size 640x480 with 1 Axes>"
      ]
     },
     "metadata": {},
     "output_type": "display_data"
    }
   ],
   "source": [
    "df.groupby('Country')['Annual Salary'].mean().round(2).sort_values(ascending=True).plot(kind='barh', color='purple')\n",
    "plt.title(\"Average Annual Salary by Country\")   \n",
    "plt.xlabel(\"Average Annual Salary\")\n",
    "plt.ylabel(\"Country\")\n",
    "plt.show()"
   ]
  },
  {
   "cell_type": "code",
   "execution_count": 25,
   "id": "9971fa42",
   "metadata": {},
   "outputs": [
    {
     "data": {
      "text/plain": [
       "Index(['No', 'First Name', 'Last Name', 'Gender', 'Start Date', 'Years',\n",
       "       'Department', 'Country', 'Center', 'Monthly Salary', 'Annual Salary',\n",
       "       'Job Rate', 'Sick Leaves', 'Unpaid Leaves', 'Overtime Hours'],\n",
       "      dtype='object')"
      ]
     },
     "execution_count": 25,
     "metadata": {},
     "output_type": "execute_result"
    }
   ],
   "source": [
    "df.columns"
   ]
  },
  {
   "cell_type": "code",
   "execution_count": 26,
   "id": "c3b2d31d",
   "metadata": {},
   "outputs": [
    {
     "data": {
      "image/png": "[encoded data removed]",
      "text/plain": [
       "<Figure size 640x480 with 1 Axes>"
      ]
     },
     "metadata": {},
     "output_type": "display_data"
    }
   ],
   "source": [
    "df.groupby('Department')['Annual Salary'].mean().round(2).sort_values(ascending=True).plot(kind='barh', color='teal')\n",
    "plt.title(\"Average Annual Salary by Department\") \n",
    "plt.xlabel(\"Average Annual Salary\")\n",
    "plt.ylabel(\"Department\")    \n",
    "plt.show()\n",
    "       "
   ]
  },
  {
   "cell_type": "code",
   "execution_count": 27,
   "id": "c8fa04c7",
   "metadata": {},
   "outputs": [
    {
     "data": {
      "image/png": "[encoded data removed]",
      "text/plain": [
       "<Figure size 640x480 with 1 Axes>"
      ]
     },
     "metadata": {},
     "output_type": "display_data"
    }
   ],
   "source": [
    "df.groupby('Country')['Job Rate'].mean().round(2).sort_values(ascending=True).plot(kind='barh', color='brown')\n",
    "plt.title(\"Average Job Rate by Country\")            \n",
    "plt.xlabel(\"Average Job Rate\")\n",
    "plt.ylabel(\"Country\")\n",
    "plt.show()"
   ]
  },
  {
   "cell_type": "code",
   "execution_count": 28,
   "id": "b8cc50a5",
   "metadata": {},
   "outputs": [
    {
     "data": {
      "image/png": "[encoded data removed]",
      "text/plain": [
       "<Figure size 2000x1200 with 1 Axes>"
      ]
     },
     "metadata": {},
     "output_type": "display_data"
    }
   ],
   "source": [
    "plt.figure(figsize=(20,12))\n",
    "df['Overtime Hours'].value_counts().sort_values(ascending=True).plot(kind='bar', color='green')\n",
    "plt.title(\"Overtime Hours Distribution\")\n",
    "plt.xlabel(\"Overtime Hours\")\n",
    "plt.ylabel(\"Number of Employees\")\n",
    "plt.show()  "
   ]
  },
  {
   "cell_type": "code",
   "execution_count": 29,
   "id": "2acf047b",
   "metadata": {},
   "outputs": [
    {
     "data": {
      "text/plain": [
       "Index(['No', 'First Name', 'Last Name', 'Gender', 'Start Date', 'Years',\n",
       "       'Department', 'Country', 'Center', 'Monthly Salary', 'Annual Salary',\n",
       "       'Job Rate', 'Sick Leaves', 'Unpaid Leaves', 'Overtime Hours'],\n",
       "      dtype='object')"
      ]
     },
     "execution_count": 29,
     "metadata": {},
     "output_type": "execute_result"
    }
   ],
   "source": [
    "df.columns\n"
   ]
  },
  {
   "cell_type": "code",
   "execution_count": 30,
   "id": "688df46e",
   "metadata": {},
   "outputs": [
    {
     "data": {
      "application/vnd.microsoft.datawrangler.viewer.v0+json": {
       "columns": [
        {
         "name": "Country",
         "rawType": "object",
         "type": "string"
        },
        {
         "name": "Annual Salary",
         "rawType": "float64",
         "type": "float"
        }
       ],
       "ref": "95ee1c0e-8608-4232-aeff-5cde7c606550",
       "rows": [
        [
         "Egypt",
         "25078.8"
        ],
        [
         "United Arab Emirates",
         "24745.38"
        ],
        [
         "Saudi Arabia",
         "24339.47"
        ],
        [
         "Syria",
         "24180.45"
        ],
        [
         "Lebanon",
         "23875.64"
        ]
       ],
       "shape": {
        "columns": 1,
        "rows": 5
       }
      },
      "text/plain": [
       "Country\n",
       "Egypt                   25078.80\n",
       "United Arab Emirates    24745.38\n",
       "Saudi Arabia            24339.47\n",
       "Syria                   24180.45\n",
       "Lebanon                 23875.64\n",
       "Name: Annual Salary, dtype: float64"
      ]
     },
     "execution_count": 30,
     "metadata": {},
     "output_type": "execute_result"
    }
   ],
   "source": [
    "df.groupby('Country')['Annual Salary'].mean().round(2).sort_values(ascending=False)"
   ]
  },
  {
   "cell_type": "code",
   "execution_count": 31,
   "id": "121f9a79",
   "metadata": {},
   "outputs": [
    {
     "data": {
      "application/vnd.microsoft.datawrangler.viewer.v0+json": {
       "columns": [
        {
         "name": "Country",
         "rawType": "object",
         "type": "string"
        },
        {
         "name": "count",
         "rawType": "int64",
         "type": "integer"
        }
       ],
       "ref": "cba0df8a-3c61-4ab5-9938-d1f5b78b9c4d",
       "rows": [
        [
         "Egypt",
         "379"
        ],
        [
         "United Arab Emirates",
         "156"
        ],
        [
         "Saudi Arabia",
         "90"
        ],
        [
         "Syria",
         "53"
        ],
        [
         "Lebanon",
         "11"
        ]
       ],
       "shape": {
        "columns": 1,
        "rows": 5
       }
      },
      "text/plain": [
       "Country\n",
       "Egypt                   379\n",
       "United Arab Emirates    156\n",
       "Saudi Arabia             90\n",
       "Syria                    53\n",
       "Lebanon                  11\n",
       "Name: count, dtype: int64"
      ]
     },
     "execution_count": 31,
     "metadata": {},
     "output_type": "execute_result"
    }
   ],
   "source": [
    "df['Country'].value_counts()"
   ]
  },
  {
   "cell_type": "code",
   "execution_count": 32,
   "id": "02ad737c",
   "metadata": {},
   "outputs": [
    {
     "data": {
      "application/vnd.microsoft.datawrangler.viewer.v0+json": {
       "columns": [
        {
         "name": "index",
         "rawType": "int64",
         "type": "integer"
        },
        {
         "name": "Department",
         "rawType": "object",
         "type": "string"
        },
        {
         "name": "Country",
         "rawType": "object",
         "type": "string"
        },
        {
         "name": "Annual Salary",
         "rawType": "float64",
         "type": "float"
        }
       ],
       "ref": "04abc4ca-a902-4c42-a2b2-031ea9611986",
       "rows": [
        [
         "0",
         "Product Development",
         "Lebanon",
         "39732.0"
        ],
        [
         "1",
         "Training",
         "United Arab Emirates",
         "38928.0"
        ],
        [
         "2",
         "Environmental Compliance",
         "Syria",
         "37812.0"
        ],
        [
         "3",
         "Human Resources",
         "Egypt",
         "37116.0"
        ],
        [
         "4",
         "Facilities/Engineering",
         "Saudi Arabia",
         "35997.0"
        ],
        [
         "5",
         "Training",
         "Syria",
         "35364.0"
        ],
        [
         "6",
         "Human Resources",
         "Lebanon",
         "33828.0"
        ],
        [
         "7",
         "Research Center",
         "Saudi Arabia",
         "33780.0"
        ],
        [
         "8",
         "Environmental Compliance",
         "United Arab Emirates",
         "33056.0"
        ],
        [
         "9",
         "Major Mfg Projects",
         "Syria",
         "31332.0"
        ],
        [
         "10",
         "Green Building",
         "Saudi Arabia",
         "31236.0"
        ],
        [
         "11",
         "Major Mfg Projects",
         "Saudi Arabia",
         "30072.0"
        ],
        [
         "12",
         "Human Resources",
         "Syria",
         "29712.0"
        ],
        [
         "13",
         "Creative",
         "Syria",
         "28392.0"
        ],
        [
         "14",
         "Major Mfg Projects",
         "Egypt",
         "28380.0"
        ],
        [
         "15",
         "Training",
         "Saudi Arabia",
         "28376.0"
        ],
        [
         "16",
         "Environmental Compliance",
         "Egypt",
         "28254.67"
        ],
        [
         "17",
         "Human Resources",
         "United Arab Emirates",
         "28108.0"
        ],
        [
         "18",
         "Manufacturing Admin",
         "Syria",
         "28104.0"
        ],
        [
         "19",
         "Quality Assurance",
         "Syria",
         "28016.57"
        ],
        [
         "20",
         "It",
         "Saudi Arabia",
         "27895.2"
        ],
        [
         "21",
         "Facilities/Engineering",
         "Egypt",
         "27830.4"
        ],
        [
         "22",
         "Manufacturing Admin",
         "United Arab Emirates",
         "26484.0"
        ],
        [
         "23",
         "Marketing",
         "Egypt",
         "26354.9"
        ],
        [
         "24",
         "It",
         "Egypt",
         "26173.89"
        ],
        [
         "25",
         "Quality Control",
         "Saudi Arabia",
         "26135.08"
        ],
        [
         "26",
         "Marketing",
         "Syria",
         "25854.0"
        ],
        [
         "27",
         "Green Building",
         "Egypt",
         "25818.0"
        ],
        [
         "28",
         "Research Center",
         "United Arab Emirates",
         "25764.0"
        ],
        [
         "29",
         "Sales",
         "United Arab Emirates",
         "25740.0"
        ],
        [
         "30",
         "Quality Assurance",
         "Egypt",
         "25591.5"
        ],
        [
         "31",
         "Creative",
         "Egypt",
         "25568.0"
        ],
        [
         "32",
         "Manufacturing",
         "United Arab Emirates",
         "25557.93"
        ],
        [
         "33",
         "Facilities/Engineering",
         "United Arab Emirates",
         "25483.5"
        ],
        [
         "34",
         "Quality Control",
         "United Arab Emirates",
         "25482.95"
        ],
        [
         "35",
         "Environmental Health/Safety",
         "Egypt",
         "25192.8"
        ],
        [
         "36",
         "Research/Development",
         "Egypt",
         "25183.2"
        ],
        [
         "37",
         "Professional Training Group",
         "Syria",
         "25176.0"
        ],
        [
         "38",
         "Marketing",
         "United Arab Emirates",
         "25065.82"
        ],
        [
         "39",
         "Account Management",
         "Syria",
         "25005.6"
        ],
        [
         "40",
         "Professional Training Group",
         "Egypt",
         "24885.6"
        ],
        [
         "41",
         "Professional Training Group",
         "Saudi Arabia",
         "24655.2"
        ],
        [
         "42",
         "Sales",
         "Egypt",
         "24616.62"
        ],
        [
         "43",
         "It",
         "Syria",
         "24495.0"
        ],
        [
         "44",
         "Product Development",
         "United Arab Emirates",
         "24315.0"
        ],
        [
         "45",
         "Quality Control",
         "Egypt",
         "24167.77"
        ],
        [
         "46",
         "Sales",
         "Syria",
         "24108.0"
        ],
        [
         "47",
         "Quality Assurance",
         "Saudi Arabia",
         "24090.0"
        ],
        [
         "48",
         "Account Management",
         "Egypt",
         "24086.45"
        ],
        [
         "49",
         "Green Building",
         "United Arab Emirates",
         "24080.0"
        ]
       ],
       "shape": {
        "columns": 3,
        "rows": 78
       }
      },
      "text/html": [
       "<div>\n",
       "<style scoped>\n",
       "    .dataframe tbody tr th:only-of-type {\n",
       "        vertical-align: middle;\n",
       "    }\n",
       "\n",
       "    .dataframe tbody tr th {\n",
       "        vertical-align: top;\n",
       "    }\n",
       "\n",
       "    .dataframe thead th {\n",
       "        text-align: right;\n",
       "    }\n",
       "</style>\n",
       "<table border=\"1\" class=\"dataframe\">\n",
       "  <thead>\n",
       "    <tr style=\"text-align: right;\">\n",
       "      <th></th>\n",
       "      <th>Department</th>\n",
       "      <th>Country</th>\n",
       "      <th>Annual Salary</th>\n",
       "    </tr>\n",
       "  </thead>\n",
       "  <tbody>\n",
       "    <tr>\n",
       "      <th>0</th>\n",
       "      <td>Product Development</td>\n",
       "      <td>Lebanon</td>\n",
       "      <td>39732.0</td>\n",
       "    </tr>\n",
       "    <tr>\n",
       "      <th>1</th>\n",
       "      <td>Training</td>\n",
       "      <td>United Arab Emirates</td>\n",
       "      <td>38928.0</td>\n",
       "    </tr>\n",
       "    <tr>\n",
       "      <th>2</th>\n",
       "      <td>Environmental Compliance</td>\n",
       "      <td>Syria</td>\n",
       "      <td>37812.0</td>\n",
       "    </tr>\n",
       "    <tr>\n",
       "      <th>3</th>\n",
       "      <td>Human Resources</td>\n",
       "      <td>Egypt</td>\n",
       "      <td>37116.0</td>\n",
       "    </tr>\n",
       "    <tr>\n",
       "      <th>4</th>\n",
       "      <td>Facilities/Engineering</td>\n",
       "      <td>Saudi Arabia</td>\n",
       "      <td>35997.0</td>\n",
       "    </tr>\n",
       "    <tr>\n",
       "      <th>...</th>\n",
       "      <td>...</td>\n",
       "      <td>...</td>\n",
       "      <td>...</td>\n",
       "    </tr>\n",
       "    <tr>\n",
       "      <th>73</th>\n",
       "      <td>Green Building</td>\n",
       "      <td>Syria</td>\n",
       "      <td>13608.0</td>\n",
       "    </tr>\n",
       "    <tr>\n",
       "      <th>74</th>\n",
       "      <td>Creative</td>\n",
       "      <td>Lebanon</td>\n",
       "      <td>13464.0</td>\n",
       "    </tr>\n",
       "    <tr>\n",
       "      <th>75</th>\n",
       "      <td>Research Center</td>\n",
       "      <td>Syria</td>\n",
       "      <td>13152.0</td>\n",
       "    </tr>\n",
       "    <tr>\n",
       "      <th>76</th>\n",
       "      <td>Major Mfg Projects</td>\n",
       "      <td>Lebanon</td>\n",
       "      <td>11964.0</td>\n",
       "    </tr>\n",
       "    <tr>\n",
       "      <th>77</th>\n",
       "      <td>Product Development</td>\n",
       "      <td>Syria</td>\n",
       "      <td>11376.0</td>\n",
       "    </tr>\n",
       "  </tbody>\n",
       "</table>\n",
       "<p>78 rows × 3 columns</p>\n",
       "</div>"
      ],
      "text/plain": [
       "                  Department               Country  Annual Salary\n",
       "0        Product Development               Lebanon        39732.0\n",
       "1                   Training  United Arab Emirates        38928.0\n",
       "2   Environmental Compliance                 Syria        37812.0\n",
       "3            Human Resources                 Egypt        37116.0\n",
       "4     Facilities/Engineering          Saudi Arabia        35997.0\n",
       "..                       ...                   ...            ...\n",
       "73            Green Building                 Syria        13608.0\n",
       "74                  Creative               Lebanon        13464.0\n",
       "75           Research Center                 Syria        13152.0\n",
       "76        Major Mfg Projects               Lebanon        11964.0\n",
       "77       Product Development                 Syria        11376.0\n",
       "\n",
       "[78 rows x 3 columns]"
      ]
     },
     "execution_count": 32,
     "metadata": {},
     "output_type": "execute_result"
    }
   ],
   "source": [
    "salary_summary = df.groupby(['Department','Country'])['Annual Salary'] \\\n",
    "                   .mean().round(2).sort_values(ascending=False).reset_index()\n",
    "salary_summary\n"
   ]
  },
  {
   "cell_type": "code",
   "execution_count": 33,
   "id": "001dd27a",
   "metadata": {},
   "outputs": [],
   "source": [
    "x = df[['Years', 'Job Rate', 'Country', 'Overtime Hours', 'Department']]\n",
    "y = df['Annual Salary']"
   ]
  },
  {
   "cell_type": "code",
   "execution_count": 34,
   "id": "d7e63a53",
   "metadata": {},
   "outputs": [
    {
     "data": {
      "application/vnd.microsoft.datawrangler.viewer.v0+json": {
       "columns": [
        {
         "name": "index",
         "rawType": "int64",
         "type": "integer"
        },
        {
         "name": "Years",
         "rawType": "int64",
         "type": "integer"
        },
        {
         "name": "Job Rate",
         "rawType": "float64",
         "type": "float"
        },
        {
         "name": "Country",
         "rawType": "object",
         "type": "string"
        },
        {
         "name": "Overtime Hours",
         "rawType": "int64",
         "type": "integer"
        },
        {
         "name": "Department",
         "rawType": "object",
         "type": "string"
        }
       ],
       "ref": "fff742c6-6e11-488d-978f-f2d8dcab94e0",
       "rows": [
        [
         "0",
         "2",
         "3.0",
         "Egypt",
         "183",
         "Quality Control"
        ],
        [
         "1",
         "0",
         "1.0",
         "Saudi Arabia",
         "198",
         "Quality Control"
        ],
        [
         "2",
         "3",
         "2.0",
         "Saudi Arabia",
         "192",
         "Major Mfg Projects"
        ],
        [
         "3",
         "2",
         "3.0",
         "United Arab Emirates",
         "7",
         "Manufacturing"
        ],
        [
         "4",
         "0",
         "5.0",
         "Egypt",
         "121",
         "Manufacturing"
        ],
        [
         "5",
         "4",
         "3.0",
         "Saudi Arabia",
         "8",
         "Product Development"
        ],
        [
         "6",
         "0",
         "3.0",
         "United Arab Emirates",
         "116",
         "Sales"
        ],
        [
         "7",
         "2",
         "5.0",
         "Egypt",
         "7",
         "Account Management"
        ],
        [
         "8",
         "2",
         "4.5",
         "Egypt",
         "105",
         "Green Building"
        ],
        [
         "9",
         "1",
         "4.5",
         "Egypt",
         "153",
         "Account Management"
        ],
        [
         "10",
         "2",
         "2.0",
         "Syria",
         "12",
         "Manufacturing"
        ],
        [
         "11",
         "2",
         "1.0",
         "Egypt",
         "70",
         "It"
        ],
        [
         "12",
         "2",
         "5.0",
         "Egypt",
         "85",
         "Facilities/Engineering"
        ],
        [
         "13",
         "4",
         "5.0",
         "United Arab Emirates",
         "8",
         "Facilities/Engineering"
        ],
        [
         "14",
         "2",
         "3.0",
         "Egypt",
         "8",
         "Marketing"
        ],
        [
         "15",
         "1",
         "3.0",
         "Egypt",
         "77",
         "Sales"
        ],
        [
         "16",
         "4",
         "4.5",
         "Saudi Arabia",
         "93",
         "Account Management"
        ],
        [
         "17",
         "2",
         "3.0",
         "United Arab Emirates",
         "153",
         "Quality Control"
        ],
        [
         "18",
         "2",
         "3.0",
         "United Arab Emirates",
         "8",
         "Quality Control"
        ],
        [
         "19",
         "1",
         "2.0",
         "United Arab Emirates",
         "10",
         "Product Development"
        ],
        [
         "20",
         "0",
         "5.0",
         "Egypt",
         "98",
         "Account Management"
        ],
        [
         "21",
         "2",
         "3.0",
         "Egypt",
         "109",
         "Manufacturing Admin"
        ],
        [
         "22",
         "1",
         "3.0",
         "Saudi Arabia",
         "111",
         "Training"
        ],
        [
         "23",
         "1",
         "4.5",
         "Saudi Arabia",
         "32",
         "Quality Assurance"
        ],
        [
         "24",
         "0",
         "3.0",
         "Egypt",
         "94",
         "It"
        ],
        [
         "25",
         "0",
         "4.5",
         "Egypt",
         "13",
         "Product Development"
        ],
        [
         "26",
         "2",
         "5.0",
         "Egypt",
         "70",
         "Quality Control"
        ],
        [
         "27",
         "1",
         "4.5",
         "Saudi Arabia",
         "9",
         "Manufacturing"
        ],
        [
         "28",
         "1",
         "5.0",
         "Egypt",
         "97",
         "Quality Control"
        ],
        [
         "29",
         "1",
         "5.0",
         "United Arab Emirates",
         "71",
         "Professional Training Group"
        ],
        [
         "30",
         "0",
         "5.0",
         "Saudi Arabia",
         "100",
         "Quality Assurance"
        ],
        [
         "31",
         "1",
         "3.0",
         "Syria",
         "48",
         "Environmental Compliance"
        ],
        [
         "32",
         "3",
         "1.0",
         "Egypt",
         "148",
         "Quality Assurance"
        ],
        [
         "33",
         "3",
         "1.0",
         "United Arab Emirates",
         "5",
         "Product Development"
        ],
        [
         "34",
         "3",
         "4.5",
         "Egypt",
         "7",
         "Sales"
        ],
        [
         "35",
         "1",
         "4.5",
         "Saudi Arabia",
         "37",
         "Manufacturing"
        ],
        [
         "36",
         "4",
         "5.0",
         "Egypt",
         "5",
         "Quality Assurance"
        ],
        [
         "37",
         "0",
         "5.0",
         "United Arab Emirates",
         "3",
         "Quality Control"
        ],
        [
         "38",
         "2",
         "3.0",
         "Egypt",
         "9",
         "Quality Control"
        ],
        [
         "39",
         "1",
         "3.0",
         "United Arab Emirates",
         "0",
         "Marketing"
        ],
        [
         "40",
         "1",
         "4.5",
         "Saudi Arabia",
         "26",
         "Manufacturing"
        ],
        [
         "41",
         "0",
         "5.0",
         "Egypt",
         "7",
         "Facilities/Engineering"
        ],
        [
         "42",
         "3",
         "5.0",
         "United Arab Emirates",
         "14",
         "Account Management"
        ],
        [
         "43",
         "0",
         "3.0",
         "Saudi Arabia",
         "9",
         "Quality Control"
        ],
        [
         "44",
         "4",
         "4.5",
         "Egypt",
         "7",
         "Facilities/Engineering"
        ],
        [
         "45",
         "1",
         "2.0",
         "United Arab Emirates",
         "3",
         "Marketing"
        ],
        [
         "46",
         "1",
         "2.0",
         "United Arab Emirates",
         "0",
         "Creative"
        ],
        [
         "47",
         "4",
         "5.0",
         "Egypt",
         "3",
         "Manufacturing"
        ],
        [
         "48",
         "0",
         "3.0",
         "Egypt",
         "1",
         "Manufacturing"
        ],
        [
         "49",
         "1",
         "5.0",
         "Egypt",
         "1",
         "Quality Assurance"
        ]
       ],
       "shape": {
        "columns": 5,
        "rows": 689
       }
      },
      "text/html": [
       "<div>\n",
       "<style scoped>\n",
       "    .dataframe tbody tr th:only-of-type {\n",
       "        vertical-align: middle;\n",
       "    }\n",
       "\n",
       "    .dataframe tbody tr th {\n",
       "        vertical-align: top;\n",
       "    }\n",
       "\n",
       "    .dataframe thead th {\n",
       "        text-align: right;\n",
       "    }\n",
       "</style>\n",
       "<table border=\"1\" class=\"dataframe\">\n",
       "  <thead>\n",
       "    <tr style=\"text-align: right;\">\n",
       "      <th></th>\n",
       "      <th>Years</th>\n",
       "      <th>Job Rate</th>\n",
       "      <th>Country</th>\n",
       "      <th>Overtime Hours</th>\n",
       "      <th>Department</th>\n",
       "    </tr>\n",
       "  </thead>\n",
       "  <tbody>\n",
       "    <tr>\n",
       "      <th>0</th>\n",
       "      <td>2</td>\n",
       "      <td>3.0</td>\n",
       "      <td>Egypt</td>\n",
       "      <td>183</td>\n",
       "      <td>Quality Control</td>\n",
       "    </tr>\n",
       "    <tr>\n",
       "      <th>1</th>\n",
       "      <td>0</td>\n",
       "      <td>1.0</td>\n",
       "      <td>Saudi Arabia</td>\n",
       "      <td>198</td>\n",
       "      <td>Quality Control</td>\n",
       "    </tr>\n",
       "    <tr>\n",
       "      <th>2</th>\n",
       "      <td>3</td>\n",
       "      <td>2.0</td>\n",
       "      <td>Saudi Arabia</td>\n",
       "      <td>192</td>\n",
       "      <td>Major Mfg Projects</td>\n",
       "    </tr>\n",
       "    <tr>\n",
       "      <th>3</th>\n",
       "      <td>2</td>\n",
       "      <td>3.0</td>\n",
       "      <td>United Arab Emirates</td>\n",
       "      <td>7</td>\n",
       "      <td>Manufacturing</td>\n",
       "    </tr>\n",
       "    <tr>\n",
       "      <th>4</th>\n",
       "      <td>0</td>\n",
       "      <td>5.0</td>\n",
       "      <td>Egypt</td>\n",
       "      <td>121</td>\n",
       "      <td>Manufacturing</td>\n",
       "    </tr>\n",
       "    <tr>\n",
       "      <th>...</th>\n",
       "      <td>...</td>\n",
       "      <td>...</td>\n",
       "      <td>...</td>\n",
       "      <td>...</td>\n",
       "      <td>...</td>\n",
       "    </tr>\n",
       "    <tr>\n",
       "      <th>684</th>\n",
       "      <td>0</td>\n",
       "      <td>2.0</td>\n",
       "      <td>Lebanon</td>\n",
       "      <td>1</td>\n",
       "      <td>Marketing</td>\n",
       "    </tr>\n",
       "    <tr>\n",
       "      <th>685</th>\n",
       "      <td>0</td>\n",
       "      <td>3.0</td>\n",
       "      <td>Egypt</td>\n",
       "      <td>4</td>\n",
       "      <td>Facilities/Engineering</td>\n",
       "    </tr>\n",
       "    <tr>\n",
       "      <th>686</th>\n",
       "      <td>3</td>\n",
       "      <td>5.0</td>\n",
       "      <td>Egypt</td>\n",
       "      <td>0</td>\n",
       "      <td>Facilities/Engineering</td>\n",
       "    </tr>\n",
       "    <tr>\n",
       "      <th>687</th>\n",
       "      <td>2</td>\n",
       "      <td>3.0</td>\n",
       "      <td>Egypt</td>\n",
       "      <td>10</td>\n",
       "      <td>Creative</td>\n",
       "    </tr>\n",
       "    <tr>\n",
       "      <th>688</th>\n",
       "      <td>0</td>\n",
       "      <td>5.0</td>\n",
       "      <td>United Arab Emirates</td>\n",
       "      <td>0</td>\n",
       "      <td>It</td>\n",
       "    </tr>\n",
       "  </tbody>\n",
       "</table>\n",
       "<p>689 rows × 5 columns</p>\n",
       "</div>"
      ],
      "text/plain": [
       "     Years  Job Rate               Country  Overtime Hours  \\\n",
       "0        2       3.0                 Egypt             183   \n",
       "1        0       1.0          Saudi Arabia             198   \n",
       "2        3       2.0          Saudi Arabia             192   \n",
       "3        2       3.0  United Arab Emirates               7   \n",
       "4        0       5.0                 Egypt             121   \n",
       "..     ...       ...                   ...             ...   \n",
       "684      0       2.0               Lebanon               1   \n",
       "685      0       3.0                 Egypt               4   \n",
       "686      3       5.0                 Egypt               0   \n",
       "687      2       3.0                 Egypt              10   \n",
       "688      0       5.0  United Arab Emirates               0   \n",
       "\n",
       "                 Department  \n",
       "0           Quality Control  \n",
       "1           Quality Control  \n",
       "2        Major Mfg Projects  \n",
       "3             Manufacturing  \n",
       "4             Manufacturing  \n",
       "..                      ...  \n",
       "684               Marketing  \n",
       "685  Facilities/Engineering  \n",
       "686  Facilities/Engineering  \n",
       "687                Creative  \n",
       "688                      It  \n",
       "\n",
       "[689 rows x 5 columns]"
      ]
     },
     "execution_count": 34,
     "metadata": {},
     "output_type": "execute_result"
    }
   ],
   "source": [
    "x"
   ]
  },
  {
   "cell_type": "code",
   "execution_count": 35,
   "id": "e7e60708",
   "metadata": {},
   "outputs": [
    {
     "data": {
      "application/vnd.microsoft.datawrangler.viewer.v0+json": {
       "columns": [
        {
         "name": "index",
         "rawType": "int64",
         "type": "integer"
        },
        {
         "name": "Annual Salary",
         "rawType": "int64",
         "type": "integer"
        }
       ],
       "ref": "335b2775-76bf-4c80-814c-499a9e58eac5",
       "rows": [
        [
         "0",
         "18720"
        ],
        [
         "1",
         "38964"
        ],
        [
         "2",
         "30072"
        ],
        [
         "3",
         "21936"
        ],
        [
         "4",
         "11640"
        ],
        [
         "5",
         "27984"
        ],
        [
         "6",
         "23508"
        ],
        [
         "7",
         "40728"
        ],
        [
         "8",
         "17748"
        ],
        [
         "9",
         "14232"
        ],
        [
         "10",
         "17820"
        ],
        [
         "11",
         "24192"
        ],
        [
         "12",
         "23988"
        ],
        [
         "13",
         "40848"
        ],
        [
         "14",
         "10668"
        ],
        [
         "15",
         "11160"
        ],
        [
         "16",
         "37788"
        ],
        [
         "17",
         "15540"
        ],
        [
         "18",
         "25944"
        ],
        [
         "19",
         "26160"
        ],
        [
         "20",
         "17700"
        ],
        [
         "21",
         "15480"
        ],
        [
         "22",
         "21168"
        ],
        [
         "23",
         "32184"
        ],
        [
         "24",
         "36528"
        ],
        [
         "25",
         "10680"
        ],
        [
         "26",
         "26484"
        ],
        [
         "27",
         "25632"
        ],
        [
         "28",
         "13932"
        ],
        [
         "29",
         "9960"
        ],
        [
         "30",
         "35724"
        ],
        [
         "31",
         "37812"
        ],
        [
         "32",
         "18612"
        ],
        [
         "33",
         "25188"
        ],
        [
         "34",
         "9696"
        ],
        [
         "35",
         "11808"
        ],
        [
         "36",
         "12132"
        ],
        [
         "37",
         "24312"
        ],
        [
         "38",
         "33612"
        ],
        [
         "39",
         "38496"
        ],
        [
         "40",
         "25548"
        ],
        [
         "41",
         "40128"
        ],
        [
         "42",
         "34032"
        ],
        [
         "43",
         "23520"
        ],
        [
         "44",
         "17736"
        ],
        [
         "45",
         "23772"
        ],
        [
         "46",
         "24768"
        ],
        [
         "47",
         "12540"
        ],
        [
         "48",
         "24264"
        ],
        [
         "49",
         "28596"
        ]
       ],
       "shape": {
        "columns": 1,
        "rows": 689
       }
      },
      "text/plain": [
       "0      18720\n",
       "1      38964\n",
       "2      30072\n",
       "3      21936\n",
       "4      11640\n",
       "       ...  \n",
       "684    17424\n",
       "685    38844\n",
       "686    33828\n",
       "687    24828\n",
       "688    31272\n",
       "Name: Annual Salary, Length: 689, dtype: int64"
      ]
     },
     "execution_count": 35,
     "metadata": {},
     "output_type": "execute_result"
    }
   ],
   "source": [
    "y"
   ]
  },
  {
   "cell_type": "code",
   "execution_count": 36,
   "id": "1cc763ef",
   "metadata": {},
   "outputs": [
    {
     "data": {
      "text/plain": [
       "['Egypt', 'Saudi Arabia', 'United Arab Emirates', 'Syria', 'Lebanon']"
      ]
     },
     "execution_count": 36,
     "metadata": {},
     "output_type": "execute_result"
    }
   ],
   "source": [
    "df['Country'].unique().tolist()"
   ]
  },
  {
   "cell_type": "code",
   "execution_count": 37,
   "id": "331e4030",
   "metadata": {},
   "outputs": [
    {
     "data": {
      "text/plain": [
       "['Quality Control',\n",
       " 'Major Mfg Projects',\n",
       " 'Manufacturing',\n",
       " 'Product Development',\n",
       " 'Sales',\n",
       " 'Account Management',\n",
       " 'Green Building',\n",
       " 'It',\n",
       " 'Facilities/Engineering',\n",
       " 'Marketing',\n",
       " 'Manufacturing Admin',\n",
       " 'Training',\n",
       " 'Quality Assurance',\n",
       " 'Professional Training Group',\n",
       " 'Environmental Compliance',\n",
       " 'Creative',\n",
       " 'Research/Development',\n",
       " 'Environmental Health/Safety',\n",
       " 'Human Resources',\n",
       " 'Research Center']"
      ]
     },
     "execution_count": 37,
     "metadata": {},
     "output_type": "execute_result"
    }
   ],
   "source": [
    "df['Department'].unique().tolist()"
   ]
  },
  {
   "cell_type": "code",
   "execution_count": 38,
   "id": "7dfe00ce",
   "metadata": {},
   "outputs": [],
   "source": [
    "# For Country\n",
    "country_mapping = {code: cat for code, cat in enumerate(df['Country'].astype('category').cat.categories)}\n",
    "\n",
    "# For Department\n",
    "department_mapping = {code: cat for code, cat in enumerate(df['Department'].astype('category').cat.categories)}\n",
    "\n",
    "x['Country'] = df['Country'].astype('category').cat.codes\n",
    "x['Department'] = df['Department'].astype('category').cat.codes\n"
   ]
  },
  {
   "cell_type": "code",
   "execution_count": 39,
   "id": "07632984",
   "metadata": {},
   "outputs": [
    {
     "data": {
      "text/plain": [
       "{0: 'Egypt',\n",
       " 1: 'Lebanon',\n",
       " 2: 'Saudi Arabia',\n",
       " 3: 'Syria',\n",
       " 4: 'United Arab Emirates'}"
      ]
     },
     "execution_count": 39,
     "metadata": {},
     "output_type": "execute_result"
    }
   ],
   "source": [
    "country_mapping"
   ]
  },
  {
   "cell_type": "code",
   "execution_count": 40,
   "id": "5cdaf15b",
   "metadata": {},
   "outputs": [
    {
     "data": {
      "text/plain": [
       "{0: 'Account Management',\n",
       " 1: 'Creative',\n",
       " 2: 'Environmental Compliance',\n",
       " 3: 'Environmental Health/Safety',\n",
       " 4: 'Facilities/Engineering',\n",
       " 5: 'Green Building',\n",
       " 6: 'Human Resources',\n",
       " 7: 'It',\n",
       " 8: 'Major Mfg Projects',\n",
       " 9: 'Manufacturing',\n",
       " 10: 'Manufacturing Admin',\n",
       " 11: 'Marketing',\n",
       " 12: 'Product Development',\n",
       " 13: 'Professional Training Group',\n",
       " 14: 'Quality Assurance',\n",
       " 15: 'Quality Control',\n",
       " 16: 'Research Center',\n",
       " 17: 'Research/Development',\n",
       " 18: 'Sales',\n",
       " 19: 'Training'}"
      ]
     },
     "execution_count": 40,
     "metadata": {},
     "output_type": "execute_result"
    }
   ],
   "source": [
    "department_mapping"
   ]
  },
  {
   "cell_type": "code",
   "execution_count": 41,
   "id": "cec232da",
   "metadata": {},
   "outputs": [
    {
     "data": {
      "application/vnd.microsoft.datawrangler.viewer.v0+json": {
       "columns": [
        {
         "name": "index",
         "rawType": "int64",
         "type": "integer"
        },
        {
         "name": "Years",
         "rawType": "int64",
         "type": "integer"
        },
        {
         "name": "Job Rate",
         "rawType": "float64",
         "type": "float"
        },
        {
         "name": "Country",
         "rawType": "int8",
         "type": "integer"
        },
        {
         "name": "Overtime Hours",
         "rawType": "int64",
         "type": "integer"
        },
        {
         "name": "Department",
         "rawType": "int8",
         "type": "integer"
        }
       ],
       "ref": "162a31e4-c96b-4564-b2c8-368a63ffb711",
       "rows": [
        [
         "0",
         "2",
         "3.0",
         "0",
         "183",
         "15"
        ],
        [
         "1",
         "0",
         "1.0",
         "2",
         "198",
         "15"
        ],
        [
         "2",
         "3",
         "2.0",
         "2",
         "192",
         "8"
        ],
        [
         "3",
         "2",
         "3.0",
         "4",
         "7",
         "9"
        ],
        [
         "4",
         "0",
         "5.0",
         "0",
         "121",
         "9"
        ],
        [
         "5",
         "4",
         "3.0",
         "2",
         "8",
         "12"
        ],
        [
         "6",
         "0",
         "3.0",
         "4",
         "116",
         "18"
        ],
        [
         "7",
         "2",
         "5.0",
         "0",
         "7",
         "0"
        ],
        [
         "8",
         "2",
         "4.5",
         "0",
         "105",
         "5"
        ],
        [
         "9",
         "1",
         "4.5",
         "0",
         "153",
         "0"
        ],
        [
         "10",
         "2",
         "2.0",
         "3",
         "12",
         "9"
        ],
        [
         "11",
         "2",
         "1.0",
         "0",
         "70",
         "7"
        ],
        [
         "12",
         "2",
         "5.0",
         "0",
         "85",
         "4"
        ],
        [
         "13",
         "4",
         "5.0",
         "4",
         "8",
         "4"
        ],
        [
         "14",
         "2",
         "3.0",
         "0",
         "8",
         "11"
        ],
        [
         "15",
         "1",
         "3.0",
         "0",
         "77",
         "18"
        ],
        [
         "16",
         "4",
         "4.5",
         "2",
         "93",
         "0"
        ],
        [
         "17",
         "2",
         "3.0",
         "4",
         "153",
         "15"
        ],
        [
         "18",
         "2",
         "3.0",
         "4",
         "8",
         "15"
        ],
        [
         "19",
         "1",
         "2.0",
         "4",
         "10",
         "12"
        ],
        [
         "20",
         "0",
         "5.0",
         "0",
         "98",
         "0"
        ],
        [
         "21",
         "2",
         "3.0",
         "0",
         "109",
         "10"
        ],
        [
         "22",
         "1",
         "3.0",
         "2",
         "111",
         "19"
        ],
        [
         "23",
         "1",
         "4.5",
         "2",
         "32",
         "14"
        ],
        [
         "24",
         "0",
         "3.0",
         "0",
         "94",
         "7"
        ],
        [
         "25",
         "0",
         "4.5",
         "0",
         "13",
         "12"
        ],
        [
         "26",
         "2",
         "5.0",
         "0",
         "70",
         "15"
        ],
        [
         "27",
         "1",
         "4.5",
         "2",
         "9",
         "9"
        ],
        [
         "28",
         "1",
         "5.0",
         "0",
         "97",
         "15"
        ],
        [
         "29",
         "1",
         "5.0",
         "4",
         "71",
         "13"
        ],
        [
         "30",
         "0",
         "5.0",
         "2",
         "100",
         "14"
        ],
        [
         "31",
         "1",
         "3.0",
         "3",
         "48",
         "2"
        ],
        [
         "32",
         "3",
         "1.0",
         "0",
         "148",
         "14"
        ],
        [
         "33",
         "3",
         "1.0",
         "4",
         "5",
         "12"
        ],
        [
         "34",
         "3",
         "4.5",
         "0",
         "7",
         "18"
        ],
        [
         "35",
         "1",
         "4.5",
         "2",
         "37",
         "9"
        ],
        [
         "36",
         "4",
         "5.0",
         "0",
         "5",
         "14"
        ],
        [
         "37",
         "0",
         "5.0",
         "4",
         "3",
         "15"
        ],
        [
         "38",
         "2",
         "3.0",
         "0",
         "9",
         "15"
        ],
        [
         "39",
         "1",
         "3.0",
         "4",
         "0",
         "11"
        ],
        [
         "40",
         "1",
         "4.5",
         "2",
         "26",
         "9"
        ],
        [
         "41",
         "0",
         "5.0",
         "0",
         "7",
         "4"
        ],
        [
         "42",
         "3",
         "5.0",
         "4",
         "14",
         "0"
        ],
        [
         "43",
         "0",
         "3.0",
         "2",
         "9",
         "15"
        ],
        [
         "44",
         "4",
         "4.5",
         "0",
         "7",
         "4"
        ],
        [
         "45",
         "1",
         "2.0",
         "4",
         "3",
         "11"
        ],
        [
         "46",
         "1",
         "2.0",
         "4",
         "0",
         "1"
        ],
        [
         "47",
         "4",
         "5.0",
         "0",
         "3",
         "9"
        ],
        [
         "48",
         "0",
         "3.0",
         "0",
         "1",
         "9"
        ],
        [
         "49",
         "1",
         "5.0",
         "0",
         "1",
         "14"
        ]
       ],
       "shape": {
        "columns": 5,
        "rows": 689
       }
      },
      "text/html": [
       "<div>\n",
       "<style scoped>\n",
       "    .dataframe tbody tr th:only-of-type {\n",
       "        vertical-align: middle;\n",
       "    }\n",
       "\n",
       "    .dataframe tbody tr th {\n",
       "        vertical-align: top;\n",
       "    }\n",
       "\n",
       "    .dataframe thead th {\n",
       "        text-align: right;\n",
       "    }\n",
       "</style>\n",
       "<table border=\"1\" class=\"dataframe\">\n",
       "  <thead>\n",
       "    <tr style=\"text-align: right;\">\n",
       "      <th></th>\n",
       "      <th>Years</th>\n",
       "      <th>Job Rate</th>\n",
       "      <th>Country</th>\n",
       "      <th>Overtime Hours</th>\n",
       "      <th>Department</th>\n",
       "    </tr>\n",
       "  </thead>\n",
       "  <tbody>\n",
       "    <tr>\n",
       "      <th>0</th>\n",
       "      <td>2</td>\n",
       "      <td>3.0</td>\n",
       "      <td>0</td>\n",
       "      <td>183</td>\n",
       "      <td>15</td>\n",
       "    </tr>\n",
       "    <tr>\n",
       "      <th>1</th>\n",
       "      <td>0</td>\n",
       "      <td>1.0</td>\n",
       "      <td>2</td>\n",
       "      <td>198</td>\n",
       "      <td>15</td>\n",
       "    </tr>\n",
       "    <tr>\n",
       "      <th>2</th>\n",
       "      <td>3</td>\n",
       "      <td>2.0</td>\n",
       "      <td>2</td>\n",
       "      <td>192</td>\n",
       "      <td>8</td>\n",
       "    </tr>\n",
       "    <tr>\n",
       "      <th>3</th>\n",
       "      <td>2</td>\n",
       "      <td>3.0</td>\n",
       "      <td>4</td>\n",
       "      <td>7</td>\n",
       "      <td>9</td>\n",
       "    </tr>\n",
       "    <tr>\n",
       "      <th>4</th>\n",
       "      <td>0</td>\n",
       "      <td>5.0</td>\n",
       "      <td>0</td>\n",
       "      <td>121</td>\n",
       "      <td>9</td>\n",
       "    </tr>\n",
       "    <tr>\n",
       "      <th>...</th>\n",
       "      <td>...</td>\n",
       "      <td>...</td>\n",
       "      <td>...</td>\n",
       "      <td>...</td>\n",
       "      <td>...</td>\n",
       "    </tr>\n",
       "    <tr>\n",
       "      <th>684</th>\n",
       "      <td>0</td>\n",
       "      <td>2.0</td>\n",
       "      <td>1</td>\n",
       "      <td>1</td>\n",
       "      <td>11</td>\n",
       "    </tr>\n",
       "    <tr>\n",
       "      <th>685</th>\n",
       "      <td>0</td>\n",
       "      <td>3.0</td>\n",
       "      <td>0</td>\n",
       "      <td>4</td>\n",
       "      <td>4</td>\n",
       "    </tr>\n",
       "    <tr>\n",
       "      <th>686</th>\n",
       "      <td>3</td>\n",
       "      <td>5.0</td>\n",
       "      <td>0</td>\n",
       "      <td>0</td>\n",
       "      <td>4</td>\n",
       "    </tr>\n",
       "    <tr>\n",
       "      <th>687</th>\n",
       "      <td>2</td>\n",
       "      <td>3.0</td>\n",
       "      <td>0</td>\n",
       "      <td>10</td>\n",
       "      <td>1</td>\n",
       "    </tr>\n",
       "    <tr>\n",
       "      <th>688</th>\n",
       "      <td>0</td>\n",
       "      <td>5.0</td>\n",
       "      <td>4</td>\n",
       "      <td>0</td>\n",
       "      <td>7</td>\n",
       "    </tr>\n",
       "  </tbody>\n",
       "</table>\n",
       "<p>689 rows × 5 columns</p>\n",
       "</div>"
      ],
      "text/plain": [
       "     Years  Job Rate  Country  Overtime Hours  Department\n",
       "0        2       3.0        0             183          15\n",
       "1        0       1.0        2             198          15\n",
       "2        3       2.0        2             192           8\n",
       "3        2       3.0        4               7           9\n",
       "4        0       5.0        0             121           9\n",
       "..     ...       ...      ...             ...         ...\n",
       "684      0       2.0        1               1          11\n",
       "685      0       3.0        0               4           4\n",
       "686      3       5.0        0               0           4\n",
       "687      2       3.0        0              10           1\n",
       "688      0       5.0        4               0           7\n",
       "\n",
       "[689 rows x 5 columns]"
      ]
     },
     "execution_count": 41,
     "metadata": {},
     "output_type": "execute_result"
    }
   ],
   "source": [
    "x"
   ]
  },
  {
   "cell_type": "code",
   "execution_count": 42,
   "id": "b0c88956",
   "metadata": {},
   "outputs": [
    {
     "data": {
      "text/plain": [
       "((551, 5), (138, 5), (551,), (138,))"
      ]
     },
     "execution_count": 42,
     "metadata": {},
     "output_type": "execute_result"
    }
   ],
   "source": [
    "from sklearn.model_selection import train_test_split\n",
    "X_train, X_test, y_train, y_test = train_test_split(x, y, test_size=0.2, random_state=42)   \n",
    "X_train.shape, X_test.shape, y_train.shape, y_test.shape"
   ]
  },
  {
   "cell_type": "code",
   "execution_count": 43,
   "id": "c714e3f0",
   "metadata": {},
   "outputs": [
    {
     "data": {
      "application/vnd.microsoft.datawrangler.viewer.v0+json": {
       "columns": [
        {
         "name": "index",
         "rawType": "int64",
         "type": "integer"
        },
        {
         "name": "Years",
         "rawType": "int64",
         "type": "integer"
        },
        {
         "name": "Job Rate",
         "rawType": "float64",
         "type": "float"
        },
        {
         "name": "Country",
         "rawType": "int8",
         "type": "integer"
        },
        {
         "name": "Overtime Hours",
         "rawType": "int64",
         "type": "integer"
        },
        {
         "name": "Department",
         "rawType": "int8",
         "type": "integer"
        }
       ],
       "ref": "98ce24dc-8ec8-4790-bf63-963e222db01b",
       "rows": [
        [
         "286",
         "1",
         "4.5",
         "0",
         "76",
         "1"
        ],
        [
         "655",
         "0",
         "1.0",
         "2",
         "7",
         "0"
        ],
        [
         "257",
         "1",
         "5.0",
         "3",
         "13",
         "12"
        ],
        [
         "336",
         "2",
         "4.5",
         "4",
         "1",
         "0"
        ],
        [
         "318",
         "1",
         "5.0",
         "4",
         "2",
         "11"
        ],
        [
         "211",
         "3",
         "3.0",
         "2",
         "87",
         "1"
        ],
        [
         "623",
         "2",
         "4.5",
         "3",
         "1",
         "14"
        ],
        [
         "176",
         "2",
         "5.0",
         "0",
         "5",
         "9"
        ],
        [
         "574",
         "0",
         "4.5",
         "4",
         "15",
         "7"
        ],
        [
         "256",
         "2",
         "1.0",
         "0",
         "7",
         "9"
        ],
        [
         "671",
         "1",
         "5.0",
         "4",
         "4",
         "4"
        ],
        [
         "165",
         "1",
         "3.0",
         "4",
         "10",
         "0"
        ],
        [
         "654",
         "3",
         "1.0",
         "2",
         "10",
         "14"
        ],
        [
         "78",
         "2",
         "4.5",
         "4",
         "9",
         "9"
        ],
        [
         "675",
         "2",
         "3.0",
         "0",
         "20",
         "9"
        ],
        [
         "528",
         "2",
         "3.0",
         "0",
         "8",
         "11"
        ],
        [
         "439",
         "1",
         "4.5",
         "0",
         "7",
         "4"
        ],
        [
         "294",
         "3",
         "4.5",
         "2",
         "6",
         "15"
        ],
        [
         "644",
         "0",
         "3.0",
         "4",
         "10",
         "4"
        ],
        [
         "396",
         "3",
         "5.0",
         "4",
         "3",
         "3"
        ],
        [
         "355",
         "1",
         "3.0",
         "0",
         "10",
         "15"
        ],
        [
         "334",
         "2",
         "5.0",
         "4",
         "10",
         "15"
        ],
        [
         "289",
         "2",
         "4.5",
         "0",
         "6",
         "4"
        ],
        [
         "501",
         "5",
         "1.0",
         "0",
         "8",
         "7"
        ],
        [
         "281",
         "0",
         "5.0",
         "0",
         "2",
         "9"
        ],
        [
         "327",
         "1",
         "5.0",
         "2",
         "14",
         "15"
        ],
        [
         "250",
         "0",
         "3.0",
         "0",
         "12",
         "9"
        ],
        [
         "54",
         "4",
         "3.0",
         "0",
         "5",
         "15"
        ],
        [
         "662",
         "1",
         "2.0",
         "0",
         "4",
         "9"
        ],
        [
         "335",
         "0",
         "1.0",
         "2",
         "6",
         "13"
        ],
        [
         "133",
         "3",
         "1.0",
         "3",
         "3",
         "14"
        ],
        [
         "499",
         "1",
         "5.0",
         "2",
         "8",
         "0"
        ],
        [
         "136",
         "0",
         "3.0",
         "0",
         "12",
         "14"
        ],
        [
         "109",
         "2",
         "4.5",
         "0",
         "4",
         "11"
        ],
        [
         "468",
         "0",
         "4.5",
         "1",
         "51",
         "6"
        ],
        [
         "235",
         "1",
         "5.0",
         "2",
         "13",
         "18"
        ],
        [
         "212",
         "1",
         "3.0",
         "0",
         "7",
         "0"
        ],
        [
         "409",
         "1",
         "1.0",
         "0",
         "6",
         "11"
        ],
        [
         "244",
         "0",
         "3.0",
         "4",
         "8",
         "9"
        ],
        [
         "132",
         "3",
         "5.0",
         "2",
         "10",
         "7"
        ],
        [
         "249",
         "0",
         "5.0",
         "0",
         "86",
         "0"
        ],
        [
         "72",
         "1",
         "3.0",
         "3",
         "6",
         "12"
        ],
        [
         "353",
         "0",
         "3.0",
         "0",
         "31",
         "9"
        ],
        [
         "567",
         "1",
         "5.0",
         "0",
         "10",
         "0"
        ],
        [
         "639",
         "1",
         "5.0",
         "0",
         "4",
         "12"
        ],
        [
         "585",
         "4",
         "3.0",
         "0",
         "2",
         "3"
        ],
        [
         "656",
         "0",
         "3.0",
         "0",
         "6",
         "9"
        ],
        [
         "404",
         "2",
         "5.0",
         "0",
         "45",
         "4"
        ],
        [
         "76",
         "2",
         "3.0",
         "0",
         "6",
         "9"
        ],
        [
         "477",
         "1",
         "3.0",
         "4",
         "7",
         "0"
        ]
       ],
       "shape": {
        "columns": 5,
        "rows": 138
       }
      },
      "text/html": [
       "<div>\n",
       "<style scoped>\n",
       "    .dataframe tbody tr th:only-of-type {\n",
       "        vertical-align: middle;\n",
       "    }\n",
       "\n",
       "    .dataframe tbody tr th {\n",
       "        vertical-align: top;\n",
       "    }\n",
       "\n",
       "    .dataframe thead th {\n",
       "        text-align: right;\n",
       "    }\n",
       "</style>\n",
       "<table border=\"1\" class=\"dataframe\">\n",
       "  <thead>\n",
       "    <tr style=\"text-align: right;\">\n",
       "      <th></th>\n",
       "      <th>Years</th>\n",
       "      <th>Job Rate</th>\n",
       "      <th>Country</th>\n",
       "      <th>Overtime Hours</th>\n",
       "      <th>Department</th>\n",
       "    </tr>\n",
       "  </thead>\n",
       "  <tbody>\n",
       "    <tr>\n",
       "      <th>286</th>\n",
       "      <td>1</td>\n",
       "      <td>4.5</td>\n",
       "      <td>0</td>\n",
       "      <td>76</td>\n",
       "      <td>1</td>\n",
       "    </tr>\n",
       "    <tr>\n",
       "      <th>655</th>\n",
       "      <td>0</td>\n",
       "      <td>1.0</td>\n",
       "      <td>2</td>\n",
       "      <td>7</td>\n",
       "      <td>0</td>\n",
       "    </tr>\n",
       "    <tr>\n",
       "      <th>257</th>\n",
       "      <td>1</td>\n",
       "      <td>5.0</td>\n",
       "      <td>3</td>\n",
       "      <td>13</td>\n",
       "      <td>12</td>\n",
       "    </tr>\n",
       "    <tr>\n",
       "      <th>336</th>\n",
       "      <td>2</td>\n",
       "      <td>4.5</td>\n",
       "      <td>4</td>\n",
       "      <td>1</td>\n",
       "      <td>0</td>\n",
       "    </tr>\n",
       "    <tr>\n",
       "      <th>318</th>\n",
       "      <td>1</td>\n",
       "      <td>5.0</td>\n",
       "      <td>4</td>\n",
       "      <td>2</td>\n",
       "      <td>11</td>\n",
       "    </tr>\n",
       "    <tr>\n",
       "      <th>...</th>\n",
       "      <td>...</td>\n",
       "      <td>...</td>\n",
       "      <td>...</td>\n",
       "      <td>...</td>\n",
       "      <td>...</td>\n",
       "    </tr>\n",
       "    <tr>\n",
       "      <th>333</th>\n",
       "      <td>2</td>\n",
       "      <td>4.5</td>\n",
       "      <td>0</td>\n",
       "      <td>7</td>\n",
       "      <td>7</td>\n",
       "    </tr>\n",
       "    <tr>\n",
       "      <th>506</th>\n",
       "      <td>0</td>\n",
       "      <td>5.0</td>\n",
       "      <td>0</td>\n",
       "      <td>9</td>\n",
       "      <td>2</td>\n",
       "    </tr>\n",
       "    <tr>\n",
       "      <th>24</th>\n",
       "      <td>0</td>\n",
       "      <td>3.0</td>\n",
       "      <td>0</td>\n",
       "      <td>94</td>\n",
       "      <td>7</td>\n",
       "    </tr>\n",
       "    <tr>\n",
       "      <th>158</th>\n",
       "      <td>1</td>\n",
       "      <td>2.0</td>\n",
       "      <td>0</td>\n",
       "      <td>9</td>\n",
       "      <td>15</td>\n",
       "    </tr>\n",
       "    <tr>\n",
       "      <th>517</th>\n",
       "      <td>1</td>\n",
       "      <td>2.0</td>\n",
       "      <td>4</td>\n",
       "      <td>0</td>\n",
       "      <td>5</td>\n",
       "    </tr>\n",
       "  </tbody>\n",
       "</table>\n",
       "<p>138 rows × 5 columns</p>\n",
       "</div>"
      ],
      "text/plain": [
       "     Years  Job Rate  Country  Overtime Hours  Department\n",
       "286      1       4.5        0              76           1\n",
       "655      0       1.0        2               7           0\n",
       "257      1       5.0        3              13          12\n",
       "336      2       4.5        4               1           0\n",
       "318      1       5.0        4               2          11\n",
       "..     ...       ...      ...             ...         ...\n",
       "333      2       4.5        0               7           7\n",
       "506      0       5.0        0               9           2\n",
       "24       0       3.0        0              94           7\n",
       "158      1       2.0        0               9          15\n",
       "517      1       2.0        4               0           5\n",
       "\n",
       "[138 rows x 5 columns]"
      ]
     },
     "execution_count": 43,
     "metadata": {},
     "output_type": "execute_result"
    }
   ],
   "source": [
    "X_test"
   ]
  },
  {
   "cell_type": "code",
   "execution_count": null,
   "id": "5e524cec",
   "metadata": {},
   "outputs": [],
   "source": []
  },
  {
   "cell_type": "code",
   "execution_count": 44,
   "id": "67b70ad0",
   "metadata": {},
   "outputs": [
    {
     "name": "stderr",
     "output_type": "stream",
     "text": [
      "'c:\\Users\\danai\\OneDrive\\Desktop\\Salary' is not recognized as an internal or external command,\n",
      "operable program or batch file.\n"
     ]
    }
   ],
   "source": [
    "!{sys.executable} -m pip install scikit-learn\n",
    "from sklearn.preprocessing import StandardScaler\n",
    "scaler = StandardScaler()\n",
    "scaled_X_train = scaler.fit_transform(X_train[['Years', 'Job Rate', 'Overtime Hours']])\n",
    "Scaled_X_test = scaler.transform(X_test[['Years', 'Job Rate', 'Overtime Hours']])\n"
   ]
  },
  {
   "cell_type": "code",
   "execution_count": 45,
   "id": "0b01109a",
   "metadata": {},
   "outputs": [
    {
     "data": {
      "text/plain": [
       "array([[-1.22535407, -0.46249866, -0.01452139],\n",
       "       [ 2.11707214,  1.02126706, -0.45023503],\n",
       "       [-1.22535407, -0.46249866, -0.45023503],\n",
       "       ...,\n",
       "       [ 0.44585903,  1.02126706, -0.13335239],\n",
       "       [-1.22535407,  0.65032563, -0.29179371],\n",
       "       [-0.38974752,  1.02126706, -0.48984536]], shape=(551, 3))"
      ]
     },
     "execution_count": 45,
     "metadata": {},
     "output_type": "execute_result"
    }
   ],
   "source": [
    "scaled_X_train"
   ]
  },
  {
   "cell_type": "code",
   "execution_count": 46,
   "id": "78968cb0",
   "metadata": {},
   "outputs": [
    {
     "data": {
      "application/vnd.microsoft.datawrangler.viewer.v0+json": {
       "columns": [
        {
         "name": "index",
         "rawType": "int64",
         "type": "integer"
        },
        {
         "name": "Years",
         "rawType": "int64",
         "type": "integer"
        },
        {
         "name": "Job Rate",
         "rawType": "float64",
         "type": "float"
        },
        {
         "name": "Country",
         "rawType": "int8",
         "type": "integer"
        },
        {
         "name": "Overtime Hours",
         "rawType": "int64",
         "type": "integer"
        },
        {
         "name": "Department",
         "rawType": "int8",
         "type": "integer"
        }
       ],
       "ref": "98f2d5c7-5e76-44bb-aef9-1b8d06db5369",
       "rows": [
        [
         "278",
         "0",
         "3.0",
         "4",
         "13",
         "15"
        ],
        [
         "110",
         "4",
         "5.0",
         "2",
         "2",
         "0"
        ],
        [
         "82",
         "0",
         "3.0",
         "0",
         "2",
         "0"
        ],
        [
         "51",
         "1",
         "2.0",
         "2",
         "10",
         "18"
        ],
        [
         "218",
         "4",
         "4.5",
         "4",
         "0",
         "0"
        ],
        [
         "551",
         "4",
         "1.0",
         "2",
         "6",
         "5"
        ],
        [
         "445",
         "2",
         "5.0",
         "0",
         "9",
         "9"
        ],
        [
         "292",
         "4",
         "5.0",
         "2",
         "3",
         "9"
        ],
        [
         "314",
         "1",
         "2.0",
         "2",
         "9",
         "7"
        ],
        [
         "533",
         "4",
         "5.0",
         "4",
         "10",
         "15"
        ],
        [
         "18",
         "2",
         "3.0",
         "4",
         "8",
         "15"
        ],
        [
         "503",
         "2",
         "5.0",
         "0",
         "10",
         "15"
        ],
        [
         "486",
         "2",
         "4.5",
         "0",
         "14",
         "8"
        ],
        [
         "575",
         "1",
         "2.0",
         "4",
         "6",
         "9"
        ],
        [
         "607",
         "0",
         "5.0",
         "4",
         "6",
         "0"
        ],
        [
         "61",
         "2",
         "3.0",
         "0",
         "2",
         "17"
        ],
        [
         "507",
         "1",
         "5.0",
         "4",
         "9",
         "15"
        ],
        [
         "500",
         "2",
         "5.0",
         "0",
         "2",
         "9"
        ],
        [
         "29",
         "1",
         "5.0",
         "4",
         "71",
         "13"
        ],
        [
         "181",
         "0",
         "3.0",
         "0",
         "2",
         "9"
        ],
        [
         "411",
         "3",
         "3.0",
         "0",
         "4",
         "4"
        ],
        [
         "680",
         "0",
         "3.0",
         "3",
         "4",
         "9"
        ],
        [
         "587",
         "1",
         "1.0",
         "0",
         "1",
         "9"
        ],
        [
         "430",
         "4",
         "4.5",
         "4",
         "8",
         "13"
        ],
        [
         "548",
         "4",
         "3.0",
         "0",
         "11",
         "14"
        ],
        [
         "363",
         "1",
         "3.0",
         "2",
         "0",
         "11"
        ],
        [
         "338",
         "4",
         "4.5",
         "0",
         "9",
         "4"
        ],
        [
         "377",
         "1",
         "2.0",
         "4",
         "5",
         "13"
        ],
        [
         "424",
         "0",
         "3.0",
         "0",
         "4",
         "4"
        ],
        [
         "598",
         "3",
         "1.0",
         "0",
         "6",
         "15"
        ],
        [
         "357",
         "3",
         "5.0",
         "2",
         "3",
         "11"
        ],
        [
         "215",
         "4",
         "4.5",
         "4",
         "7",
         "12"
        ],
        [
         "628",
         "1",
         "4.5",
         "2",
         "7",
         "5"
        ],
        [
         "390",
         "3",
         "4.5",
         "3",
         "8",
         "14"
        ],
        [
         "174",
         "3",
         "5.0",
         "4",
         "3",
         "15"
        ],
        [
         "645",
         "2",
         "2.0",
         "0",
         "7",
         "18"
        ],
        [
         "163",
         "2",
         "3.0",
         "0",
         "9",
         "0"
        ],
        [
         "380",
         "2",
         "4.5",
         "0",
         "8",
         "12"
        ],
        [
         "602",
         "4",
         "5.0",
         "0",
         "2",
         "3"
        ],
        [
         "431",
         "1",
         "4.5",
         "0",
         "8",
         "9"
        ],
        [
         "340",
         "0",
         "5.0",
         "4",
         "8",
         "12"
        ],
        [
         "275",
         "1",
         "4.5",
         "4",
         "4",
         "15"
        ],
        [
         "429",
         "1",
         "3.0",
         "0",
         "3",
         "17"
        ],
        [
         "104",
         "2",
         "5.0",
         "0",
         "10",
         "13"
        ],
        [
         "114",
         "1",
         "4.5",
         "0",
         "4",
         "15"
        ],
        [
         "617",
         "3",
         "3.0",
         "0",
         "3",
         "9"
        ],
        [
         "208",
         "2",
         "5.0",
         "4",
         "0",
         "0"
        ],
        [
         "260",
         "2",
         "3.0",
         "0",
         "2",
         "15"
        ],
        [
         "92",
         "1",
         "4.5",
         "0",
         "46",
         "4"
        ],
        [
         "7",
         "2",
         "5.0",
         "0",
         "7",
         "0"
        ]
       ],
       "shape": {
        "columns": 5,
        "rows": 551
       }
      },
      "text/html": [
       "<div>\n",
       "<style scoped>\n",
       "    .dataframe tbody tr th:only-of-type {\n",
       "        vertical-align: middle;\n",
       "    }\n",
       "\n",
       "    .dataframe tbody tr th {\n",
       "        vertical-align: top;\n",
       "    }\n",
       "\n",
       "    .dataframe thead th {\n",
       "        text-align: right;\n",
       "    }\n",
       "</style>\n",
       "<table border=\"1\" class=\"dataframe\">\n",
       "  <thead>\n",
       "    <tr style=\"text-align: right;\">\n",
       "      <th></th>\n",
       "      <th>Years</th>\n",
       "      <th>Job Rate</th>\n",
       "      <th>Country</th>\n",
       "      <th>Overtime Hours</th>\n",
       "      <th>Department</th>\n",
       "    </tr>\n",
       "  </thead>\n",
       "  <tbody>\n",
       "    <tr>\n",
       "      <th>278</th>\n",
       "      <td>0</td>\n",
       "      <td>3.0</td>\n",
       "      <td>4</td>\n",
       "      <td>13</td>\n",
       "      <td>15</td>\n",
       "    </tr>\n",
       "    <tr>\n",
       "      <th>110</th>\n",
       "      <td>4</td>\n",
       "      <td>5.0</td>\n",
       "      <td>2</td>\n",
       "      <td>2</td>\n",
       "      <td>0</td>\n",
       "    </tr>\n",
       "    <tr>\n",
       "      <th>82</th>\n",
       "      <td>0</td>\n",
       "      <td>3.0</td>\n",
       "      <td>0</td>\n",
       "      <td>2</td>\n",
       "      <td>0</td>\n",
       "    </tr>\n",
       "    <tr>\n",
       "      <th>51</th>\n",
       "      <td>1</td>\n",
       "      <td>2.0</td>\n",
       "      <td>2</td>\n",
       "      <td>10</td>\n",
       "      <td>18</td>\n",
       "    </tr>\n",
       "    <tr>\n",
       "      <th>218</th>\n",
       "      <td>4</td>\n",
       "      <td>4.5</td>\n",
       "      <td>4</td>\n",
       "      <td>0</td>\n",
       "      <td>0</td>\n",
       "    </tr>\n",
       "    <tr>\n",
       "      <th>...</th>\n",
       "      <td>...</td>\n",
       "      <td>...</td>\n",
       "      <td>...</td>\n",
       "      <td>...</td>\n",
       "      <td>...</td>\n",
       "    </tr>\n",
       "    <tr>\n",
       "      <th>71</th>\n",
       "      <td>4</td>\n",
       "      <td>5.0</td>\n",
       "      <td>4</td>\n",
       "      <td>10</td>\n",
       "      <td>9</td>\n",
       "    </tr>\n",
       "    <tr>\n",
       "      <th>106</th>\n",
       "      <td>4</td>\n",
       "      <td>3.0</td>\n",
       "      <td>4</td>\n",
       "      <td>3</td>\n",
       "      <td>19</td>\n",
       "    </tr>\n",
       "    <tr>\n",
       "      <th>270</th>\n",
       "      <td>2</td>\n",
       "      <td>5.0</td>\n",
       "      <td>0</td>\n",
       "      <td>10</td>\n",
       "      <td>14</td>\n",
       "    </tr>\n",
       "    <tr>\n",
       "      <th>435</th>\n",
       "      <td>0</td>\n",
       "      <td>4.5</td>\n",
       "      <td>2</td>\n",
       "      <td>6</td>\n",
       "      <td>14</td>\n",
       "    </tr>\n",
       "    <tr>\n",
       "      <th>102</th>\n",
       "      <td>1</td>\n",
       "      <td>5.0</td>\n",
       "      <td>4</td>\n",
       "      <td>1</td>\n",
       "      <td>12</td>\n",
       "    </tr>\n",
       "  </tbody>\n",
       "</table>\n",
       "<p>551 rows × 5 columns</p>\n",
       "</div>"
      ],
      "text/plain": [
       "     Years  Job Rate  Country  Overtime Hours  Department\n",
       "278      0       3.0        4              13          15\n",
       "110      4       5.0        2               2           0\n",
       "82       0       3.0        0               2           0\n",
       "51       1       2.0        2              10          18\n",
       "218      4       4.5        4               0           0\n",
       "..     ...       ...      ...             ...         ...\n",
       "71       4       5.0        4              10           9\n",
       "106      4       3.0        4               3          19\n",
       "270      2       5.0        0              10          14\n",
       "435      0       4.5        2               6          14\n",
       "102      1       5.0        4               1          12\n",
       "\n",
       "[551 rows x 5 columns]"
      ]
     },
     "execution_count": 46,
     "metadata": {},
     "output_type": "execute_result"
    }
   ],
   "source": [
    "X_train"
   ]
  },
  {
   "cell_type": "code",
   "execution_count": 47,
   "id": "2a5411b5",
   "metadata": {},
   "outputs": [
    {
     "name": "stderr",
     "output_type": "stream",
     "text": [
      "'c:\\Users\\danai\\OneDrive\\Desktop\\Salary' is not recognized as an internal or external command,\n",
      "operable program or batch file.\n"
     ]
    }
   ],
   "source": [
    "!{sys.executable} -m pip install scikit-learn\n",
    "from sklearn.linear_model import LinearRegression\n",
    "from sklearn.metrics import mean_absolute_error, mean_squared_error, r2_score\n",
    "lr = LinearRegression()"
   ]
  },
  {
   "cell_type": "code",
   "execution_count": 48,
   "id": "d981c83f",
   "metadata": {},
   "outputs": [
    {
     "data": {
      "text/html": [
       "<style>#sk-container-id-1 {\n",
       "  /* Definition of color scheme common for light and dark mode */\n",
       "  --sklearn-color-text: #000;\n",
       "  --sklearn-color-text-muted: #666;\n",
       "  --sklearn-color-line: gray;\n",
       "  /* Definition of color scheme for unfitted estimators */\n",
       "  --sklearn-color-unfitted-level-0: #fff5e6;\n",
       "  --sklearn-color-unfitted-level-1: #f6e4d2;\n",
       "  --sklearn-color-unfitted-level-2: #ffe0b3;\n",
       "  --sklearn-color-unfitted-level-3: chocolate;\n",
       "  /* Definition of color scheme for fitted estimators */\n",
       "  --sklearn-color-fitted-level-0: #f0f8ff;\n",
       "  --sklearn-color-fitted-level-1: #d4ebff;\n",
       "  --sklearn-color-fitted-level-2: #b3dbfd;\n",
       "  --sklearn-color-fitted-level-3: cornflowerblue;\n",
       "\n",
       "  /* Specific color for light theme */\n",
       "  --sklearn-color-text-on-default-background: var(--sg-text-color, var(--theme-code-foreground, var(--jp-content-font-color1, black)));\n",
       "  --sklearn-color-background: var(--sg-background-color, var(--theme-background, var(--jp-layout-color0, white)));\n",
       "  --sklearn-color-border-box: var(--sg-text-color, var(--theme-code-foreground, var(--jp-content-font-color1, black)));\n",
       "  --sklearn-color-icon: #696969;\n",
       "\n",
       "  @media (prefers-color-scheme: dark) {\n",
       "    /* Redefinition of color scheme for dark theme */\n",
       "    --sklearn-color-text-on-default-background: var(--sg-text-color, var(--theme-code-foreground, var(--jp-content-font-color1, white)));\n",
       "    --sklearn-color-background: var(--sg-background-color, var(--theme-background, var(--jp-layout-color0, #111)));\n",
       "    --sklearn-color-border-box: var(--sg-text-color, var(--theme-code-foreground, var(--jp-content-font-color1, white)));\n",
       "    --sklearn-color-icon: #878787;\n",
       "  }\n",
       "}\n",
       "\n",
       "#sk-container-id-1 {\n",
       "  color: var(--sklearn-color-text);\n",
       "}\n",
       "\n",
       "#sk-container-id-1 pre {\n",
       "  padding: 0;\n",
       "}\n",
       "\n",
       "#sk-container-id-1 input.sk-hidden--visually {\n",
       "  border: 0;\n",
       "  clip: rect(1px 1px 1px 1px);\n",
       "  clip: rect(1px, 1px, 1px, 1px);\n",
       "  height: 1px;\n",
       "  margin: -1px;\n",
       "  overflow: hidden;\n",
       "  padding: 0;\n",
       "  position: absolute;\n",
       "  width: 1px;\n",
       "}\n",
       "\n",
       "#sk-container-id-1 div.sk-dashed-wrapped {\n",
       "  border: 1px dashed var(--sklearn-color-line);\n",
       "  margin: 0 0.4em 0.5em 0.4em;\n",
       "  box-sizing: border-box;\n",
       "  padding-bottom: 0.4em;\n",
       "  background-color: var(--sklearn-color-background);\n",
       "}\n",
       "\n",
       "#sk-container-id-1 div.sk-container {\n",
       "  /* jupyter's `normalize.less` sets `[hidden] { display: none; }`\n",
       "     but bootstrap.min.css set `[hidden] { display: none !important; }`\n",
       "     so we also need the `!important` here to be able to override the\n",
       "     default hidden behavior on the sphinx rendered scikit-learn.org.\n",
       "     See: https://github.com/scikit-learn/scikit-learn/issues/21755 */\n",
       "  display: inline-block !important;\n",
       "  position: relative;\n",
       "}\n",
       "\n",
       "#sk-container-id-1 div.sk-text-repr-fallback {\n",
       "  display: none;\n",
       "}\n",
       "\n",
       "div.sk-parallel-item,\n",
       "div.sk-serial,\n",
       "div.sk-item {\n",
       "  /* draw centered vertical line to link estimators */\n",
       "  background-image: linear-gradient(var(--sklearn-color-text-on-default-background), var(--sklearn-color-text-on-default-background));\n",
       "  background-size: 2px 100%;\n",
       "  background-repeat: no-repeat;\n",
       "  background-position: center center;\n",
       "}\n",
       "\n",
       "/* Parallel-specific style estimator block */\n",
       "\n",
       "#sk-container-id-1 div.sk-parallel-item::after {\n",
       "  content: \"\";\n",
       "  width: 100%;\n",
       "  border-bottom: 2px solid var(--sklearn-color-text-on-default-background);\n",
       "  flex-grow: 1;\n",
       "}\n",
       "\n",
       "#sk-container-id-1 div.sk-parallel {\n",
       "  display: flex;\n",
       "  align-items: stretch;\n",
       "  justify-content: center;\n",
       "  background-color: var(--sklearn-color-background);\n",
       "  position: relative;\n",
       "}\n",
       "\n",
       "#sk-container-id-1 div.sk-parallel-item {\n",
       "  display: flex;\n",
       "  flex-direction: column;\n",
       "}\n",
       "\n",
       "#sk-container-id-1 div.sk-parallel-item:first-child::after {\n",
       "  align-self: flex-end;\n",
       "  width: 50%;\n",
       "}\n",
       "\n",
       "#sk-container-id-1 div.sk-parallel-item:last-child::after {\n",
       "  align-self: flex-start;\n",
       "  width: 50%;\n",
       "}\n",
       "\n",
       "#sk-container-id-1 div.sk-parallel-item:only-child::after {\n",
       "  width: 0;\n",
       "}\n",
       "\n",
       "/* Serial-specific style estimator block */\n",
       "\n",
       "#sk-container-id-1 div.sk-serial {\n",
       "  display: flex;\n",
       "  flex-direction: column;\n",
       "  align-items: center;\n",
       "  background-color: var(--sklearn-color-background);\n",
       "  padding-right: 1em;\n",
       "  padding-left: 1em;\n",
       "}\n",
       "\n",
       "\n",
       "/* Toggleable style: style used for estimator/Pipeline/ColumnTransformer box that is\n",
       "clickable and can be expanded/collapsed.\n",
       "- Pipeline and ColumnTransformer use this feature and define the default style\n",
       "- Estimators will overwrite some part of the style using the `sk-estimator` class\n",
       "*/\n",
       "\n",
       "/* Pipeline and ColumnTransformer style (default) */\n",
       "\n",
       "#sk-container-id-1 div.sk-toggleable {\n",
       "  /* Default theme specific background. It is overwritten whether we have a\n",
       "  specific estimator or a Pipeline/ColumnTransformer */\n",
       "  background-color: var(--sklearn-color-background);\n",
       "}\n",
       "\n",
       "/* Toggleable label */\n",
       "#sk-container-id-1 label.sk-toggleable__label {\n",
       "  cursor: pointer;\n",
       "  display: flex;\n",
       "  width: 100%;\n",
       "  margin-bottom: 0;\n",
       "  padding: 0.5em;\n",
       "  box-sizing: border-box;\n",
       "  text-align: center;\n",
       "  align-items: start;\n",
       "  justify-content: space-between;\n",
       "  gap: 0.5em;\n",
       "}\n",
       "\n",
       "#sk-container-id-1 label.sk-toggleable__label .caption {\n",
       "  font-size: 0.6rem;\n",
       "  font-weight: lighter;\n",
       "  color: var(--sklearn-color-text-muted);\n",
       "}\n",
       "\n",
       "#sk-container-id-1 label.sk-toggleable__label-arrow:before {\n",
       "  /* Arrow on the left of the label */\n",
       "  content: \"▸\";\n",
       "  float: left;\n",
       "  margin-right: 0.25em;\n",
       "  color: var(--sklearn-color-icon);\n",
       "}\n",
       "\n",
       "#sk-container-id-1 label.sk-toggleable__label-arrow:hover:before {\n",
       "  color: var(--sklearn-color-text);\n",
       "}\n",
       "\n",
       "/* Toggleable content - dropdown */\n",
       "\n",
       "#sk-container-id-1 div.sk-toggleable__content {\n",
       "  display: none;\n",
       "  text-align: left;\n",
       "  /* unfitted */\n",
       "  background-color: var(--sklearn-color-unfitted-level-0);\n",
       "}\n",
       "\n",
       "#sk-container-id-1 div.sk-toggleable__content.fitted {\n",
       "  /* fitted */\n",
       "  background-color: var(--sklearn-color-fitted-level-0);\n",
       "}\n",
       "\n",
       "#sk-container-id-1 div.sk-toggleable__content pre {\n",
       "  margin: 0.2em;\n",
       "  border-radius: 0.25em;\n",
       "  color: var(--sklearn-color-text);\n",
       "  /* unfitted */\n",
       "  background-color: var(--sklearn-color-unfitted-level-0);\n",
       "}\n",
       "\n",
       "#sk-container-id-1 div.sk-toggleable__content.fitted pre {\n",
       "  /* unfitted */\n",
       "  background-color: var(--sklearn-color-fitted-level-0);\n",
       "}\n",
       "\n",
       "#sk-container-id-1 input.sk-toggleable__control:checked~div.sk-toggleable__content {\n",
       "  /* Expand drop-down */\n",
       "  display: block;\n",
       "  width: 100%;\n",
       "  overflow: visible;\n",
       "}\n",
       "\n",
       "#sk-container-id-1 input.sk-toggleable__control:checked~label.sk-toggleable__label-arrow:before {\n",
       "  content: \"▾\";\n",
       "}\n",
       "\n",
       "/* Pipeline/ColumnTransformer-specific style */\n",
       "\n",
       "#sk-container-id-1 div.sk-label input.sk-toggleable__control:checked~label.sk-toggleable__label {\n",
       "  color: var(--sklearn-color-text);\n",
       "  background-color: var(--sklearn-color-unfitted-level-2);\n",
       "}\n",
       "\n",
       "#sk-container-id-1 div.sk-label.fitted input.sk-toggleable__control:checked~label.sk-toggleable__label {\n",
       "  background-color: var(--sklearn-color-fitted-level-2);\n",
       "}\n",
       "\n",
       "/* Estimator-specific style */\n",
       "\n",
       "/* Colorize estimator box */\n",
       "#sk-container-id-1 div.sk-estimator input.sk-toggleable__control:checked~label.sk-toggleable__label {\n",
       "  /* unfitted */\n",
       "  background-color: var(--sklearn-color-unfitted-level-2);\n",
       "}\n",
       "\n",
       "#sk-container-id-1 div.sk-estimator.fitted input.sk-toggleable__control:checked~label.sk-toggleable__label {\n",
       "  /* fitted */\n",
       "  background-color: var(--sklearn-color-fitted-level-2);\n",
       "}\n",
       "\n",
       "#sk-container-id-1 div.sk-label label.sk-toggleable__label,\n",
       "#sk-container-id-1 div.sk-label label {\n",
       "  /* The background is the default theme color */\n",
       "  color: var(--sklearn-color-text-on-default-background);\n",
       "}\n",
       "\n",
       "/* On hover, darken the color of the background */\n",
       "#sk-container-id-1 div.sk-label:hover label.sk-toggleable__label {\n",
       "  color: var(--sklearn-color-text);\n",
       "  background-color: var(--sklearn-color-unfitted-level-2);\n",
       "}\n",
       "\n",
       "/* Label box, darken color on hover, fitted */\n",
       "#sk-container-id-1 div.sk-label.fitted:hover label.sk-toggleable__label.fitted {\n",
       "  color: var(--sklearn-color-text);\n",
       "  background-color: var(--sklearn-color-fitted-level-2);\n",
       "}\n",
       "\n",
       "/* Estimator label */\n",
       "\n",
       "#sk-container-id-1 div.sk-label label {\n",
       "  font-family: monospace;\n",
       "  font-weight: bold;\n",
       "  display: inline-block;\n",
       "  line-height: 1.2em;\n",
       "}\n",
       "\n",
       "#sk-container-id-1 div.sk-label-container {\n",
       "  text-align: center;\n",
       "}\n",
       "\n",
       "/* Estimator-specific */\n",
       "#sk-container-id-1 div.sk-estimator {\n",
       "  font-family: monospace;\n",
       "  border: 1px dotted var(--sklearn-color-border-box);\n",
       "  border-radius: 0.25em;\n",
       "  box-sizing: border-box;\n",
       "  margin-bottom: 0.5em;\n",
       "  /* unfitted */\n",
       "  background-color: var(--sklearn-color-unfitted-level-0);\n",
       "}\n",
       "\n",
       "#sk-container-id-1 div.sk-estimator.fitted {\n",
       "  /* fitted */\n",
       "  background-color: var(--sklearn-color-fitted-level-0);\n",
       "}\n",
       "\n",
       "/* on hover */\n",
       "#sk-container-id-1 div.sk-estimator:hover {\n",
       "  /* unfitted */\n",
       "  background-color: var(--sklearn-color-unfitted-level-2);\n",
       "}\n",
       "\n",
       "#sk-container-id-1 div.sk-estimator.fitted:hover {\n",
       "  /* fitted */\n",
       "  background-color: var(--sklearn-color-fitted-level-2);\n",
       "}\n",
       "\n",
       "/* Specification for estimator info (e.g. \"i\" and \"?\") */\n",
       "\n",
       "/* Common style for \"i\" and \"?\" */\n",
       "\n",
       ".sk-estimator-doc-link,\n",
       "a:link.sk-estimator-doc-link,\n",
       "a:visited.sk-estimator-doc-link {\n",
       "  float: right;\n",
       "  font-size: smaller;\n",
       "  line-height: 1em;\n",
       "  font-family: monospace;\n",
       "  background-color: var(--sklearn-color-background);\n",
       "  border-radius: 1em;\n",
       "  height: 1em;\n",
       "  width: 1em;\n",
       "  text-decoration: none !important;\n",
       "  margin-left: 0.5em;\n",
       "  text-align: center;\n",
       "  /* unfitted */\n",
       "  border: var(--sklearn-color-unfitted-level-1) 1pt solid;\n",
       "  color: var(--sklearn-color-unfitted-level-1);\n",
       "}\n",
       "\n",
       ".sk-estimator-doc-link.fitted,\n",
       "a:link.sk-estimator-doc-link.fitted,\n",
       "a:visited.sk-estimator-doc-link.fitted {\n",
       "  /* fitted */\n",
       "  border: var(--sklearn-color-fitted-level-1) 1pt solid;\n",
       "  color: var(--sklearn-color-fitted-level-1);\n",
       "}\n",
       "\n",
       "/* On hover */\n",
       "div.sk-estimator:hover .sk-estimator-doc-link:hover,\n",
       ".sk-estimator-doc-link:hover,\n",
       "div.sk-label-container:hover .sk-estimator-doc-link:hover,\n",
       ".sk-estimator-doc-link:hover {\n",
       "  /* unfitted */\n",
       "  background-color: var(--sklearn-color-unfitted-level-3);\n",
       "  color: var(--sklearn-color-background);\n",
       "  text-decoration: none;\n",
       "}\n",
       "\n",
       "div.sk-estimator.fitted:hover .sk-estimator-doc-link.fitted:hover,\n",
       ".sk-estimator-doc-link.fitted:hover,\n",
       "div.sk-label-container:hover .sk-estimator-doc-link.fitted:hover,\n",
       ".sk-estimator-doc-link.fitted:hover {\n",
       "  /* fitted */\n",
       "  background-color: var(--sklearn-color-fitted-level-3);\n",
       "  color: var(--sklearn-color-background);\n",
       "  text-decoration: none;\n",
       "}\n",
       "\n",
       "/* Span, style for the box shown on hovering the info icon */\n",
       ".sk-estimator-doc-link span {\n",
       "  display: none;\n",
       "  z-index: 9999;\n",
       "  position: relative;\n",
       "  font-weight: normal;\n",
       "  right: .2ex;\n",
       "  padding: .5ex;\n",
       "  margin: .5ex;\n",
       "  width: min-content;\n",
       "  min-width: 20ex;\n",
       "  max-width: 50ex;\n",
       "  color: var(--sklearn-color-text);\n",
       "  box-shadow: 2pt 2pt 4pt #999;\n",
       "  /* unfitted */\n",
       "  background: var(--sklearn-color-unfitted-level-0);\n",
       "  border: .5pt solid var(--sklearn-color-unfitted-level-3);\n",
       "}\n",
       "\n",
       ".sk-estimator-doc-link.fitted span {\n",
       "  /* fitted */\n",
       "  background: var(--sklearn-color-fitted-level-0);\n",
       "  border: var(--sklearn-color-fitted-level-3);\n",
       "}\n",
       "\n",
       ".sk-estimator-doc-link:hover span {\n",
       "  display: block;\n",
       "}\n",
       "\n",
       "/* \"?\"-specific style due to the `<a>` HTML tag */\n",
       "\n",
       "#sk-container-id-1 a.estimator_doc_link {\n",
       "  float: right;\n",
       "  font-size: 1rem;\n",
       "  line-height: 1em;\n",
       "  font-family: monospace;\n",
       "  background-color: var(--sklearn-color-background);\n",
       "  border-radius: 1rem;\n",
       "  height: 1rem;\n",
       "  width: 1rem;\n",
       "  text-decoration: none;\n",
       "  /* unfitted */\n",
       "  color: var(--sklearn-color-unfitted-level-1);\n",
       "  border: var(--sklearn-color-unfitted-level-1) 1pt solid;\n",
       "}\n",
       "\n",
       "#sk-container-id-1 a.estimator_doc_link.fitted {\n",
       "  /* fitted */\n",
       "  border: var(--sklearn-color-fitted-level-1) 1pt solid;\n",
       "  color: var(--sklearn-color-fitted-level-1);\n",
       "}\n",
       "\n",
       "/* On hover */\n",
       "#sk-container-id-1 a.estimator_doc_link:hover {\n",
       "  /* unfitted */\n",
       "  background-color: var(--sklearn-color-unfitted-level-3);\n",
       "  color: var(--sklearn-color-background);\n",
       "  text-decoration: none;\n",
       "}\n",
       "\n",
       "#sk-container-id-1 a.estimator_doc_link.fitted:hover {\n",
       "  /* fitted */\n",
       "  background-color: var(--sklearn-color-fitted-level-3);\n",
       "}\n",
       "\n",
       ".estimator-table summary {\n",
       "    padding: .5rem;\n",
       "    font-family: monospace;\n",
       "    cursor: pointer;\n",
       "}\n",
       "\n",
       ".estimator-table details[open] {\n",
       "    padding-left: 0.1rem;\n",
       "    padding-right: 0.1rem;\n",
       "    padding-bottom: 0.3rem;\n",
       "}\n",
       "\n",
       ".estimator-table .parameters-table {\n",
       "    margin-left: auto !important;\n",
       "    margin-right: auto !important;\n",
       "}\n",
       "\n",
       ".estimator-table .parameters-table tr:nth-child(odd) {\n",
       "    background-color: #fff;\n",
       "}\n",
       "\n",
       ".estimator-table .parameters-table tr:nth-child(even) {\n",
       "    background-color: #f6f6f6;\n",
       "}\n",
       "\n",
       ".estimator-table .parameters-table tr:hover {\n",
       "    background-color: #e0e0e0;\n",
       "}\n",
       "\n",
       ".estimator-table table td {\n",
       "    border: 1px solid rgba(106, 105, 104, 0.232);\n",
       "}\n",
       "\n",
       ".user-set td {\n",
       "    color:rgb(255, 94, 0);\n",
       "    text-align: left;\n",
       "}\n",
       "\n",
       ".user-set td.value pre {\n",
       "    color:rgb(255, 94, 0) !important;\n",
       "    background-color: transparent !important;\n",
       "}\n",
       "\n",
       ".default td {\n",
       "    color: black;\n",
       "    text-align: left;\n",
       "}\n",
       "\n",
       ".user-set td i,\n",
       ".default td i {\n",
       "    color: black;\n",
       "}\n",
       "\n",
       ".copy-paste-icon {\n",
       "    background-image: url(data:image/svg+xml;base64,PHN2ZyB4bWxucz0iaHR0cDovL3d3dy53My5vcmcvMjAwMC9zdmciIHZpZXdCb3g9IjAgMCA0NDggNTEyIj48IS0tIUZvbnQgQXdlc29tZSBGcmVlIDYuNy4yIGJ5IEBmb250YXdlc29tZSAtIGh0dHBzOi8vZm9udGF3ZXNvbWUuY29tIExpY2Vuc2UgLSBodHRwczovL2ZvbnRhd2Vzb21lLmNvbS9saWNlbnNlL2ZyZWUgQ29weXJpZ2h0IDIwMjUgRm9udGljb25zLCBJbmMuLS0+PHBhdGggZD0iTTIwOCAwTDMzMi4xIDBjMTIuNyAwIDI0LjkgNS4xIDMzLjkgMTQuMWw2Ny45IDY3LjljOSA5IDE0LjEgMjEuMiAxNC4xIDMzLjlMNDQ4IDMzNmMwIDI2LjUtMjEuNSA0OC00OCA0OGwtMTkyIDBjLTI2LjUgMC00OC0yMS41LTQ4LTQ4bDAtMjg4YzAtMjYuNSAyMS41LTQ4IDQ4LTQ4ek00OCAxMjhsODAgMCAwIDY0LTY0IDAgMCAyNTYgMTkyIDAgMC0zMiA2NCAwIDAgNDhjMCAyNi41LTIxLjUgNDgtNDggNDhMNDggNTEyYy0yNi41IDAtNDgtMjEuNS00OC00OEwwIDE3NmMwLTI2LjUgMjEuNS00OCA0OC00OHoiLz48L3N2Zz4=);\n",
       "    background-repeat: no-repeat;\n",
       "    background-size: 14px 14px;\n",
       "    background-position: 0;\n",
       "    display: inline-block;\n",
       "    width: 14px;\n",
       "    height: 14px;\n",
       "    cursor: pointer;\n",
       "}\n",
       "</style><body><div id=\"sk-container-id-1\" class=\"sk-top-container\"><div class=\"sk-text-repr-fallback\"><pre>LinearRegression()</pre><b>In a Jupyter environment, please rerun this cell to show the HTML representation or trust the notebook. <br />On GitHub, the HTML representation is unable to render, please try loading this page with nbviewer.org.</b></div><div class=\"sk-container\" hidden><div class=\"sk-item\"><div class=\"sk-estimator fitted sk-toggleable\"><input class=\"sk-toggleable__control sk-hidden--visually\" id=\"sk-estimator-id-1\" type=\"checkbox\" checked><label for=\"sk-estimator-id-1\" class=\"sk-toggleable__label fitted sk-toggleable__label-arrow\"><div><div>LinearRegression</div></div><div><a class=\"sk-estimator-doc-link fitted\" rel=\"noreferrer\" target=\"_blank\" href=\"https://scikit-learn.org/1.7/modules/generated/sklearn.linear_model.LinearRegression.html\">?<span>Documentation for LinearRegression</span></a><span class=\"sk-estimator-doc-link fitted\">i<span>Fitted</span></span></div></label><div class=\"sk-toggleable__content fitted\" data-param-prefix=\"\">\n",
       "        <div class=\"estimator-table\">\n",
       "            <details>\n",
       "                <summary>Parameters</summary>\n",
       "                <table class=\"parameters-table\">\n",
       "                  <tbody>\n",
       "                    \n",
       "        <tr class=\"default\">\n",
       "            <td><i class=\"copy-paste-icon\"\n",
       "                 onclick=\"copyToClipboard('fit_intercept',\n",
       "                          this.parentElement.nextElementSibling)\"\n",
       "            ></i></td>\n",
       "            <td class=\"param\">fit_intercept&nbsp;</td>\n",
       "            <td class=\"value\">True</td>\n",
       "        </tr>\n",
       "    \n",
       "\n",
       "        <tr class=\"default\">\n",
       "            <td><i class=\"copy-paste-icon\"\n",
       "                 onclick=\"copyToClipboard('copy_X',\n",
       "                          this.parentElement.nextElementSibling)\"\n",
       "            ></i></td>\n",
       "            <td class=\"param\">copy_X&nbsp;</td>\n",
       "            <td class=\"value\">True</td>\n",
       "        </tr>\n",
       "    \n",
       "\n",
       "        <tr class=\"default\">\n",
       "            <td><i class=\"copy-paste-icon\"\n",
       "                 onclick=\"copyToClipboard('tol',\n",
       "                          this.parentElement.nextElementSibling)\"\n",
       "            ></i></td>\n",
       "            <td class=\"param\">tol&nbsp;</td>\n",
       "            <td class=\"value\">1e-06</td>\n",
       "        </tr>\n",
       "    \n",
       "\n",
       "        <tr class=\"default\">\n",
       "            <td><i class=\"copy-paste-icon\"\n",
       "                 onclick=\"copyToClipboard('n_jobs',\n",
       "                          this.parentElement.nextElementSibling)\"\n",
       "            ></i></td>\n",
       "            <td class=\"param\">n_jobs&nbsp;</td>\n",
       "            <td class=\"value\">None</td>\n",
       "        </tr>\n",
       "    \n",
       "\n",
       "        <tr class=\"default\">\n",
       "            <td><i class=\"copy-paste-icon\"\n",
       "                 onclick=\"copyToClipboard('positive',\n",
       "                          this.parentElement.nextElementSibling)\"\n",
       "            ></i></td>\n",
       "            <td class=\"param\">positive&nbsp;</td>\n",
       "            <td class=\"value\">False</td>\n",
       "        </tr>\n",
       "    \n",
       "                  </tbody>\n",
       "                </table>\n",
       "            </details>\n",
       "        </div>\n",
       "    </div></div></div></div></div><script>function copyToClipboard(text, element) {\n",
       "    // Get the parameter prefix from the closest toggleable content\n",
       "    const toggleableContent = element.closest('.sk-toggleable__content');\n",
       "    const paramPrefix = toggleableContent ? toggleableContent.dataset.paramPrefix : '';\n",
       "    const fullParamName = paramPrefix ? `${paramPrefix}${text}` : text;\n",
       "\n",
       "    const originalStyle = element.style;\n",
       "    const computedStyle = window.getComputedStyle(element);\n",
       "    const originalWidth = computedStyle.width;\n",
       "    const originalHTML = element.innerHTML.replace('Copied!', '');\n",
       "\n",
       "    navigator.clipboard.writeText(fullParamName)\n",
       "        .then(() => {\n",
       "            element.style.width = originalWidth;\n",
       "            element.style.color = 'green';\n",
       "            element.innerHTML = \"Copied!\";\n",
       "\n",
       "            setTimeout(() => {\n",
       "                element.innerHTML = originalHTML;\n",
       "                element.style = originalStyle;\n",
       "            }, 2000);\n",
       "        })\n",
       "        .catch(err => {\n",
       "            console.error('Failed to copy:', err);\n",
       "            element.style.color = 'red';\n",
       "            element.innerHTML = \"Failed!\";\n",
       "            setTimeout(() => {\n",
       "                element.innerHTML = originalHTML;\n",
       "                element.style = originalStyle;\n",
       "            }, 2000);\n",
       "        });\n",
       "    return false;\n",
       "}\n",
       "\n",
       "document.querySelectorAll('.fa-regular.fa-copy').forEach(function(element) {\n",
       "    const toggleableContent = element.closest('.sk-toggleable__content');\n",
       "    const paramPrefix = toggleableContent ? toggleableContent.dataset.paramPrefix : '';\n",
       "    const paramName = element.parentElement.nextElementSibling.textContent.trim();\n",
       "    const fullParamName = paramPrefix ? `${paramPrefix}${paramName}` : paramName;\n",
       "\n",
       "    element.setAttribute('title', fullParamName);\n",
       "});\n",
       "</script></body>"
      ],
      "text/plain": [
       "LinearRegression()"
      ]
     },
     "execution_count": 48,
     "metadata": {},
     "output_type": "execute_result"
    }
   ],
   "source": [
    "lr.fit(scaled_X_train, y_train)\n",
    "\n"
   ]
  },
  {
   "cell_type": "code",
   "execution_count": 49,
   "id": "d58aeb90",
   "metadata": {},
   "outputs": [
    {
     "data": {
      "text/plain": [
       "array([22095.00328   , 25822.33806607, 24446.73324336, 24717.37224162,\n",
       "       24875.6733261 , 21376.39879652, 24717.37224162, 24456.46715556,\n",
       "       24775.89352317, 25217.89304285, 24797.68422015, 24983.42439891,\n",
       "       24798.68687232, 24405.41581781, 24291.25635754, 24759.19099325,\n",
       "       24785.62743537, 24220.17696514, 25285.64691052, 24232.23374991,\n",
       "       24983.42439891, 24261.49439068, 24522.39947674, 24272.23095506,\n",
       "       25177.8958377 , 24407.73869038, 25207.65780456, 24271.72962897,\n",
       "       25427.24546508, 25861.33261904, 25071.64874315, 24641.70600824,\n",
       "       25207.65780456, 24600.38858269, 23372.08961602, 24446.73324336,\n",
       "       25100.40805784, 25559.11010744, 25363.63601647, 23959.27187907,\n",
       "       21902.35338769, 25139.40261081, 24466.76129801, 24563.71690229,\n",
       "       24797.68422015, 24388.7132879 , 25441.62512242, 22896.68503651,\n",
       "       24837.18009921, 25100.40805784, 25208.15913065, 24904.93396687,\n",
       "       25675.59244028, 24813.06652966, 23969.00579128, 24485.72779633,\n",
       "       25480.6196754 , 22604.75666735, 24982.92307282, 25636.5978873 ,\n",
       "       23501.63138581, 25637.09921339, 24444.41037079, 25637.09921339,\n",
       "       24729.93035248, 24668.64377644, 24366.42126484, 21756.61041408,\n",
       "       24719.69511419, 24495.96303462, 24749.45708105, 17491.82448232,\n",
       "       24768.92490546, 23722.98168865, 24824.62198835, 25846.45163561,\n",
       "       24271.72962897, 25388.2509121 , 25676.09376636, 23959.27187907,\n",
       "       25334.87670178, 25861.33261904, 24783.80588889, 24759.19099325,\n",
       "       24729.93035248, 24915.16920516, 24983.42439891, 24690.93579951,\n",
       "       21356.42964602, 25061.41350486, 25676.09376636, 24563.71690229,\n",
       "       23878.95990055, 25676.09376636, 25203.01205942, 25178.89848988,\n",
       "       24788.45163403, 24876.17465218, 24388.7132879 , 24300.48894366,\n",
       "       24612.44536747, 24681.2018873 , 24378.47804961, 21405.65943729,\n",
       "       24941.60564728, 25373.36992867, 24914.66787907, 24875.6733261 ,\n",
       "       21678.62130813, 25373.36992867, 25019.59475323, 24602.71145526,\n",
       "       21152.22429502, 25061.41350486, 24366.42126484, 23917.95445353,\n",
       "       24573.45081449, 25520.11555446, 24339.48349663, 25466.24001805,\n",
       "       24271.22830288, 24707.63832942, 24549.83857103, 25519.61422837,\n",
       "       25402.63056944, 24758.68966717, 24471.84946508, 24220.17696514,\n",
       "       24037.26098503, 24982.92307282, 25051.67959266, 25256.38626974,\n",
       "       24983.42439891, 24483.40492377, 24904.93396687, 22010.1044605 ,\n",
       "       25232.2727002 , 25583.22367698])"
      ]
     },
     "execution_count": 49,
     "metadata": {},
     "output_type": "execute_result"
    }
   ],
   "source": [
    "prediction = lr.predict(Scaled_X_test)\n",
    "prediction"
   ]
  },
  {
   "cell_type": "code",
   "execution_count": 50,
   "id": "a01e4518",
   "metadata": {},
   "outputs": [
    {
     "data": {
      "text/plain": [
       "91015065.61629675"
      ]
     },
     "execution_count": 50,
     "metadata": {},
     "output_type": "execute_result"
    }
   ],
   "source": [
    "mean_squared_error(prediction, y_test)\n"
   ]
  },
  {
   "cell_type": "code",
   "execution_count": 51,
   "id": "3e998f32",
   "metadata": {},
   "outputs": [
    {
     "data": {
      "text/plain": [
       "8430.067095459672"
      ]
     },
     "execution_count": 51,
     "metadata": {},
     "output_type": "execute_result"
    }
   ],
   "source": [
    "mean_absolute_error(prediction, y_test)\n"
   ]
  },
  {
   "cell_type": "code",
   "execution_count": 52,
   "id": "fea1c799",
   "metadata": {},
   "outputs": [
    {
     "data": {
      "text/plain": [
       "-70.1341651691282"
      ]
     },
     "execution_count": 52,
     "metadata": {},
     "output_type": "execute_result"
    }
   ],
   "source": [
    "r2_score(prediction, y_test)"
   ]
  },
  {
   "cell_type": "code",
   "execution_count": 53,
   "id": "1e9d450a",
   "metadata": {},
   "outputs": [
    {
     "data": {
      "text/plain": [
       "['LinearRegression.pkl']"
      ]
     },
     "execution_count": 53,
     "metadata": {},
     "output_type": "execute_result"
    }
   ],
   "source": [
    "import joblib\n",
    "joblib.dump(lr, 'LinearRegression.pkl')"
   ]
  }
 ],
 "metadata": {
  "kernelspec": {
   "display_name": ".venv",
   "language": "python",
   "name": "python3"
  },
  "language_info": {
   "codemirror_mode": {
    "name": "ipython",
    "version": 3
   },
   "file_extension": ".py",
   "mimetype": "text/x-python",
   "name": "python",
   "nbconvert_exporter": "python",
   "pygments_lexer": "ipython3",
   "version": "3.13.9"
  }
 },
 "nbformat": 4,
 "nbformat_minor": 5
}
